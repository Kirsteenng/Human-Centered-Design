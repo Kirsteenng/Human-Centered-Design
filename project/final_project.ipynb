{
 "cells": [
  {
   "cell_type": "markdown",
   "metadata": {},
   "source": [
    "## PART 1: Initial analysis\n",
    "#### COVID cases and mask mandate analysis for Macomb County, Michigan.\n",
    "In this part of the notebook, we will explore the impact of mask mandate in the number and percent change of confirmed cases in Macomb County, Michigan ranging from Feb 2020 to October 2022. The analysis begins with data manipulation to process the data into the format that is needed to plot the visualisations. Comments and explanation will be included in the notebook as markdown in order to guide the reader throughout the analysis."
   ]
  },
  {
   "cell_type": "markdown",
   "metadata": {},
   "source": [
    "### Reading in Data"
   ]
  },
  {
   "cell_type": "code",
   "execution_count": 71,
   "metadata": {},
   "outputs": [],
   "source": [
    "# Import all necessary libraries\n",
    "import pandas as pd\n",
    "import numpy as np\n",
    "import seaborn as sns\n",
    "import os\n",
    "import matplotlib.pyplot as plt\n",
    "\n",
    "# Import stats library\n",
    "from statsmodels.tsa.stattools import grangercausalitytests\n",
    "from scipy import stats"
   ]
  },
  {
   "cell_type": "markdown",
   "metadata": {},
   "source": [
    "Users can insert their file path here in order to reuse the notebook. Should the users are interested to study a different state or county, change the target_state and target_county variable."
   ]
  },
  {
   "cell_type": "code",
   "execution_count": 72,
   "metadata": {},
   "outputs": [],
   "source": [
    "# Data path \n",
    "dir_path = '/Users/kirsteenng/Desktop/UW/DATA 512/project/data/'\n",
    "raw_confirmed_path = 'RAW_us_confirmed_cases.csv' # file containing confirmed cases.\n",
    "raw_death_path ='RAW_us_deaths.csv'               # file containing death cases.\n",
    "mask_mandate = 'face_mask_mandate.csv'            # file containing mask mandate information.\n",
    "\n",
    "# county in study\n",
    "target_state = 'Michigan'\n",
    "target_county = 'Macomb'\n"
   ]
  },
  {
   "cell_type": "code",
   "execution_count": 73,
   "metadata": {},
   "outputs": [
    {
     "data": {
      "text/html": [
       "<div>\n",
       "<style scoped>\n",
       "    .dataframe tbody tr th:only-of-type {\n",
       "        vertical-align: middle;\n",
       "    }\n",
       "\n",
       "    .dataframe tbody tr th {\n",
       "        vertical-align: top;\n",
       "    }\n",
       "\n",
       "    .dataframe thead th {\n",
       "        text-align: right;\n",
       "    }\n",
       "</style>\n",
       "<table border=\"1\" class=\"dataframe\">\n",
       "  <thead>\n",
       "    <tr style=\"text-align: right;\">\n",
       "      <th></th>\n",
       "      <th>Province_State</th>\n",
       "      <th>Admin2</th>\n",
       "      <th>UID</th>\n",
       "      <th>iso2</th>\n",
       "      <th>iso3</th>\n",
       "      <th>code3</th>\n",
       "      <th>FIPS</th>\n",
       "      <th>Country_Region</th>\n",
       "      <th>Lat</th>\n",
       "      <th>Long_</th>\n",
       "      <th>...</th>\n",
       "      <th>10/21/22</th>\n",
       "      <th>10/22/22</th>\n",
       "      <th>10/23/22</th>\n",
       "      <th>10/24/22</th>\n",
       "      <th>10/25/22</th>\n",
       "      <th>10/26/22</th>\n",
       "      <th>10/27/22</th>\n",
       "      <th>10/28/22</th>\n",
       "      <th>10/29/22</th>\n",
       "      <th>10/30/22</th>\n",
       "    </tr>\n",
       "  </thead>\n",
       "  <tbody>\n",
       "    <tr>\n",
       "      <th>0</th>\n",
       "      <td>Michigan</td>\n",
       "      <td>Macomb</td>\n",
       "      <td>84026099</td>\n",
       "      <td>US</td>\n",
       "      <td>USA</td>\n",
       "      <td>840</td>\n",
       "      <td>26099.0</td>\n",
       "      <td>US</td>\n",
       "      <td>42.691584</td>\n",
       "      <td>-82.927528</td>\n",
       "      <td>...</td>\n",
       "      <td>4264</td>\n",
       "      <td>4264</td>\n",
       "      <td>4264</td>\n",
       "      <td>4264</td>\n",
       "      <td>4281</td>\n",
       "      <td>4281</td>\n",
       "      <td>4281</td>\n",
       "      <td>4281</td>\n",
       "      <td>4281</td>\n",
       "      <td>4281</td>\n",
       "    </tr>\n",
       "  </tbody>\n",
       "</table>\n",
       "<p>1 rows × 1025 columns</p>\n",
       "</div>"
      ],
      "text/plain": [
       "  Province_State  Admin2       UID iso2 iso3  code3     FIPS Country_Region  \\\n",
       "0       Michigan  Macomb  84026099   US  USA    840  26099.0             US   \n",
       "\n",
       "         Lat      Long_  ... 10/21/22  10/22/22  10/23/22  10/24/22  10/25/22  \\\n",
       "0  42.691584 -82.927528  ...     4264      4264      4264      4264      4281   \n",
       "\n",
       "   10/26/22  10/27/22  10/28/22  10/29/22  10/30/22  \n",
       "0      4281      4281      4281      4281      4281  \n",
       "\n",
       "[1 rows x 1025 columns]"
      ]
     },
     "execution_count": 73,
     "metadata": {},
     "output_type": "execute_result"
    }
   ],
   "source": [
    "# Read in data and filter out state of study\n",
    "raw_confirmed = pd.read_csv(os.path.join(dir_path,raw_confirmed_path))\n",
    "raw_confirmed = raw_confirmed[raw_confirmed['Admin2']== target_county].reset_index(drop = True)\n",
    "\n",
    "raw_death = pd.read_csv(os.path.join(dir_path,raw_death_path))\n",
    "raw_death = raw_death[raw_death['Admin2']== target_county].reset_index(drop = True)\n",
    "raw_death.head()"
   ]
  },
  {
   "cell_type": "markdown",
   "metadata": {},
   "source": [
    "### Data Cleaning and Manipulation"
   ]
  },
  {
   "cell_type": "markdown",
   "metadata": {},
   "source": [
    "This process filters out data from 2020-02-01 to 2022-10-30."
   ]
  },
  {
   "cell_type": "code",
   "execution_count": 74,
   "metadata": {},
   "outputs": [
    {
     "name": "stdout",
     "output_type": "stream",
     "text": [
      "Shape of raw_confirmed: (1, 1013)\n"
     ]
    },
    {
     "data": {
      "text/html": [
       "<div>\n",
       "<style scoped>\n",
       "    .dataframe tbody tr th:only-of-type {\n",
       "        vertical-align: middle;\n",
       "    }\n",
       "\n",
       "    .dataframe tbody tr th {\n",
       "        vertical-align: top;\n",
       "    }\n",
       "\n",
       "    .dataframe thead th {\n",
       "        text-align: right;\n",
       "    }\n",
       "</style>\n",
       "<table border=\"1\" class=\"dataframe\">\n",
       "  <thead>\n",
       "    <tr style=\"text-align: right;\">\n",
       "      <th></th>\n",
       "      <th>Province_State</th>\n",
       "      <th>Admin2</th>\n",
       "      <th>UID</th>\n",
       "      <th>iso2</th>\n",
       "      <th>iso3</th>\n",
       "      <th>code3</th>\n",
       "      <th>FIPS</th>\n",
       "      <th>Country_Region</th>\n",
       "      <th>Lat</th>\n",
       "      <th>Long_</th>\n",
       "      <th>...</th>\n",
       "      <th>10/21/22</th>\n",
       "      <th>10/22/22</th>\n",
       "      <th>10/23/22</th>\n",
       "      <th>10/24/22</th>\n",
       "      <th>10/25/22</th>\n",
       "      <th>10/26/22</th>\n",
       "      <th>10/27/22</th>\n",
       "      <th>10/28/22</th>\n",
       "      <th>10/29/22</th>\n",
       "      <th>10/30/22</th>\n",
       "    </tr>\n",
       "  </thead>\n",
       "  <tbody>\n",
       "    <tr>\n",
       "      <th>0</th>\n",
       "      <td>Michigan</td>\n",
       "      <td>Macomb</td>\n",
       "      <td>84026099</td>\n",
       "      <td>US</td>\n",
       "      <td>USA</td>\n",
       "      <td>840</td>\n",
       "      <td>26099.0</td>\n",
       "      <td>US</td>\n",
       "      <td>42.691584</td>\n",
       "      <td>-82.927528</td>\n",
       "      <td>...</td>\n",
       "      <td>279512</td>\n",
       "      <td>279512</td>\n",
       "      <td>279512</td>\n",
       "      <td>279512</td>\n",
       "      <td>281008</td>\n",
       "      <td>281008</td>\n",
       "      <td>281008</td>\n",
       "      <td>281008</td>\n",
       "      <td>281008</td>\n",
       "      <td>281008</td>\n",
       "    </tr>\n",
       "  </tbody>\n",
       "</table>\n",
       "<p>1 rows × 1013 columns</p>\n",
       "</div>"
      ],
      "text/plain": [
       "  Province_State  Admin2       UID iso2 iso3  code3     FIPS Country_Region  \\\n",
       "0       Michigan  Macomb  84026099   US  USA    840  26099.0             US   \n",
       "\n",
       "         Lat      Long_  ...  10/21/22  10/22/22  10/23/22  10/24/22  \\\n",
       "0  42.691584 -82.927528  ...    279512    279512    279512    279512   \n",
       "\n",
       "   10/25/22  10/26/22  10/27/22  10/28/22  10/29/22  10/30/22  \n",
       "0    281008    281008    281008    281008    281008    281008  \n",
       "\n",
       "[1 rows x 1013 columns]"
      ]
     },
     "execution_count": 74,
     "metadata": {},
     "output_type": "execute_result"
    }
   ],
   "source": [
    "# Filter out dates from 2020-02-01 to 2022-10-30\n",
    "raw_confirmed_filter = pd.concat([pd.DataFrame(raw_confirmed.loc[:,'Province_State':'Long_']), pd.DataFrame(raw_confirmed.loc[:,'2/1/20':'10/30/22'])], axis = 1)\n",
    "print('Shape of raw_confirmed: {}'.format(raw_confirmed_filter.shape))\n",
    "raw_confirmed_filter.head()"
   ]
  },
  {
   "cell_type": "markdown",
   "metadata": {},
   "source": [
    "Now we need to extract the time series data and manipulate it into the correct long format in order to plot the charts later."
   ]
  },
  {
   "cell_type": "code",
   "execution_count": 75,
   "metadata": {},
   "outputs": [
    {
     "name": "stdout",
     "output_type": "stream",
     "text": [
      "Shape of raw_confirmed: (1, 1013)\n"
     ]
    },
    {
     "data": {
      "text/html": [
       "<div>\n",
       "<style scoped>\n",
       "    .dataframe tbody tr th:only-of-type {\n",
       "        vertical-align: middle;\n",
       "    }\n",
       "\n",
       "    .dataframe tbody tr th {\n",
       "        vertical-align: top;\n",
       "    }\n",
       "\n",
       "    .dataframe thead th {\n",
       "        text-align: right;\n",
       "    }\n",
       "</style>\n",
       "<table border=\"1\" class=\"dataframe\">\n",
       "  <thead>\n",
       "    <tr style=\"text-align: right;\">\n",
       "      <th></th>\n",
       "      <th>Province_State</th>\n",
       "      <th>Admin2</th>\n",
       "      <th>UID</th>\n",
       "      <th>iso2</th>\n",
       "      <th>iso3</th>\n",
       "      <th>code3</th>\n",
       "      <th>FIPS</th>\n",
       "      <th>Country_Region</th>\n",
       "      <th>Lat</th>\n",
       "      <th>Long_</th>\n",
       "      <th>...</th>\n",
       "      <th>10/21/22</th>\n",
       "      <th>10/22/22</th>\n",
       "      <th>10/23/22</th>\n",
       "      <th>10/24/22</th>\n",
       "      <th>10/25/22</th>\n",
       "      <th>10/26/22</th>\n",
       "      <th>10/27/22</th>\n",
       "      <th>10/28/22</th>\n",
       "      <th>10/29/22</th>\n",
       "      <th>10/30/22</th>\n",
       "    </tr>\n",
       "  </thead>\n",
       "  <tbody>\n",
       "    <tr>\n",
       "      <th>0</th>\n",
       "      <td>Michigan</td>\n",
       "      <td>Macomb</td>\n",
       "      <td>84026099</td>\n",
       "      <td>US</td>\n",
       "      <td>USA</td>\n",
       "      <td>840</td>\n",
       "      <td>26099.0</td>\n",
       "      <td>US</td>\n",
       "      <td>42.691584</td>\n",
       "      <td>-82.927528</td>\n",
       "      <td>...</td>\n",
       "      <td>4264</td>\n",
       "      <td>4264</td>\n",
       "      <td>4264</td>\n",
       "      <td>4264</td>\n",
       "      <td>4281</td>\n",
       "      <td>4281</td>\n",
       "      <td>4281</td>\n",
       "      <td>4281</td>\n",
       "      <td>4281</td>\n",
       "      <td>4281</td>\n",
       "    </tr>\n",
       "  </tbody>\n",
       "</table>\n",
       "<p>1 rows × 1013 columns</p>\n",
       "</div>"
      ],
      "text/plain": [
       "  Province_State  Admin2       UID iso2 iso3  code3     FIPS Country_Region  \\\n",
       "0       Michigan  Macomb  84026099   US  USA    840  26099.0             US   \n",
       "\n",
       "         Lat      Long_  ...  10/21/22  10/22/22  10/23/22  10/24/22  \\\n",
       "0  42.691584 -82.927528  ...      4264      4264      4264      4264   \n",
       "\n",
       "   10/25/22  10/26/22  10/27/22  10/28/22  10/29/22  10/30/22  \n",
       "0      4281      4281      4281      4281      4281      4281  \n",
       "\n",
       "[1 rows x 1013 columns]"
      ]
     },
     "execution_count": 75,
     "metadata": {},
     "output_type": "execute_result"
    }
   ],
   "source": [
    "# Extracting time series\n",
    "raw_confirmed_series = raw_confirmed_filter.iloc[0,-1003:]\n",
    "raw_confirmed_series = raw_confirmed_series.rename('Accumulated Confirmed Cases')\n",
    "\n",
    "\n",
    "raw_death_filter = pd.concat([pd.DataFrame(raw_death.loc[:,'Province_State':'Long_']), pd.DataFrame(raw_death.loc[:,'2/1/20':'10/30/22'])], axis = 1)\n",
    "print('Shape of raw_confirmed: {}'.format(raw_death_filter.shape))\n",
    "raw_death_filter.head()"
   ]
  },
  {
   "cell_type": "code",
   "execution_count": 76,
   "metadata": {},
   "outputs": [
    {
     "data": {
      "text/plain": [
       "2/1/20         0\n",
       "2/2/20         0\n",
       "2/3/20         0\n",
       "2/4/20         0\n",
       "2/5/20         0\n",
       "            ... \n",
       "10/26/22    4281\n",
       "10/27/22    4281\n",
       "10/28/22    4281\n",
       "10/29/22    4281\n",
       "10/30/22    4281\n",
       "Name: Accumulated Death Cases, Length: 1003, dtype: object"
      ]
     },
     "execution_count": 76,
     "metadata": {},
     "output_type": "execute_result"
    }
   ],
   "source": [
    "# Extracting time series\n",
    "raw_death_series = raw_death_filter.iloc[0,-1003:]\n",
    "raw_death_series = raw_death_series.rename('Accumulated Death Cases')\n",
    "raw_death_series"
   ]
  },
  {
   "cell_type": "code",
   "execution_count": 77,
   "metadata": {},
   "outputs": [
    {
     "name": "stdout",
     "output_type": "stream",
     "text": [
      "<class 'pandas.core.frame.DataFrame'>\n",
      "RangeIndex: 493 entries, 0 to 492\n",
      "Data columns (total 7 columns):\n",
      " #   Column                         Non-Null Count  Dtype \n",
      "---  ------                         --------------  ----- \n",
      " 0   State_Tribe_Territory          493 non-null    object\n",
      " 1   County_Name                    493 non-null    object\n",
      " 2   FIPS_State                     493 non-null    int64 \n",
      " 3   FIPS_County                    493 non-null    int64 \n",
      " 4   date                           493 non-null    object\n",
      " 5   order_code                     493 non-null    int64 \n",
      " 6   Face_Masks_Required_in_Public  493 non-null    object\n",
      "dtypes: int64(3), object(4)\n",
      "memory usage: 27.1+ KB\n"
     ]
    }
   ],
   "source": [
    "# Read in mask mandate data\n",
    "mask_df = pd.read_csv(os.path.join(dir_path,mask_mandate))\n",
    "mask_df.head()\n",
    "mask_df.info()"
   ]
  },
  {
   "cell_type": "code",
   "execution_count": 78,
   "metadata": {},
   "outputs": [
    {
     "data": {
      "text/html": [
       "<div>\n",
       "<style scoped>\n",
       "    .dataframe tbody tr th:only-of-type {\n",
       "        vertical-align: middle;\n",
       "    }\n",
       "\n",
       "    .dataframe tbody tr th {\n",
       "        vertical-align: top;\n",
       "    }\n",
       "\n",
       "    .dataframe thead th {\n",
       "        text-align: right;\n",
       "    }\n",
       "</style>\n",
       "<table border=\"1\" class=\"dataframe\">\n",
       "  <thead>\n",
       "    <tr style=\"text-align: right;\">\n",
       "      <th></th>\n",
       "      <th>Accumulated Confirmed Cases</th>\n",
       "      <th>Accumulated Death Cases</th>\n",
       "    </tr>\n",
       "  </thead>\n",
       "  <tbody>\n",
       "    <tr>\n",
       "      <th>2020-02-01</th>\n",
       "      <td>0</td>\n",
       "      <td>0</td>\n",
       "    </tr>\n",
       "    <tr>\n",
       "      <th>2020-02-02</th>\n",
       "      <td>0</td>\n",
       "      <td>0</td>\n",
       "    </tr>\n",
       "    <tr>\n",
       "      <th>2020-02-03</th>\n",
       "      <td>0</td>\n",
       "      <td>0</td>\n",
       "    </tr>\n",
       "    <tr>\n",
       "      <th>2020-02-04</th>\n",
       "      <td>0</td>\n",
       "      <td>0</td>\n",
       "    </tr>\n",
       "    <tr>\n",
       "      <th>2020-02-05</th>\n",
       "      <td>0</td>\n",
       "      <td>0</td>\n",
       "    </tr>\n",
       "  </tbody>\n",
       "</table>\n",
       "</div>"
      ],
      "text/plain": [
       "           Accumulated Confirmed Cases Accumulated Death Cases\n",
       "2020-02-01                           0                       0\n",
       "2020-02-02                           0                       0\n",
       "2020-02-03                           0                       0\n",
       "2020-02-04                           0                       0\n",
       "2020-02-05                           0                       0"
      ]
     },
     "execution_count": 78,
     "metadata": {},
     "output_type": "execute_result"
    }
   ],
   "source": [
    "# Combine confirmed and death cases into one dataframe\n",
    "combined = pd.concat([raw_confirmed_series,raw_death_series],axis = 1)\n",
    "combined.index = pd.to_datetime(combined.index)\n",
    "combined.head()"
   ]
  },
  {
   "cell_type": "markdown",
   "metadata": {},
   "source": [
    "The data downloaded is an accumulated count of confirm COVID cases, so we use the diff() function to find the daily confirm cases."
   ]
  },
  {
   "cell_type": "code",
   "execution_count": 80,
   "metadata": {},
   "outputs": [
    {
     "data": {
      "text/html": [
       "<div>\n",
       "<style scoped>\n",
       "    .dataframe tbody tr th:only-of-type {\n",
       "        vertical-align: middle;\n",
       "    }\n",
       "\n",
       "    .dataframe tbody tr th {\n",
       "        vertical-align: top;\n",
       "    }\n",
       "\n",
       "    .dataframe thead th {\n",
       "        text-align: right;\n",
       "    }\n",
       "</style>\n",
       "<table border=\"1\" class=\"dataframe\">\n",
       "  <thead>\n",
       "    <tr style=\"text-align: right;\">\n",
       "      <th></th>\n",
       "      <th>Accumulated Confirmed Cases</th>\n",
       "      <th>Accumulated Death Cases</th>\n",
       "      <th>Daily Confirmed Cases</th>\n",
       "      <th>Daily Death Cases</th>\n",
       "    </tr>\n",
       "  </thead>\n",
       "  <tbody>\n",
       "    <tr>\n",
       "      <th>2020-02-01</th>\n",
       "      <td>0</td>\n",
       "      <td>0</td>\n",
       "      <td>NaN</td>\n",
       "      <td>NaN</td>\n",
       "    </tr>\n",
       "    <tr>\n",
       "      <th>2020-02-02</th>\n",
       "      <td>0</td>\n",
       "      <td>0</td>\n",
       "      <td>0</td>\n",
       "      <td>0</td>\n",
       "    </tr>\n",
       "    <tr>\n",
       "      <th>2020-02-03</th>\n",
       "      <td>0</td>\n",
       "      <td>0</td>\n",
       "      <td>0</td>\n",
       "      <td>0</td>\n",
       "    </tr>\n",
       "    <tr>\n",
       "      <th>2020-02-04</th>\n",
       "      <td>0</td>\n",
       "      <td>0</td>\n",
       "      <td>0</td>\n",
       "      <td>0</td>\n",
       "    </tr>\n",
       "    <tr>\n",
       "      <th>2020-02-05</th>\n",
       "      <td>0</td>\n",
       "      <td>0</td>\n",
       "      <td>0</td>\n",
       "      <td>0</td>\n",
       "    </tr>\n",
       "  </tbody>\n",
       "</table>\n",
       "</div>"
      ],
      "text/plain": [
       "           Accumulated Confirmed Cases Accumulated Death Cases  \\\n",
       "2020-02-01                           0                       0   \n",
       "2020-02-02                           0                       0   \n",
       "2020-02-03                           0                       0   \n",
       "2020-02-04                           0                       0   \n",
       "2020-02-05                           0                       0   \n",
       "\n",
       "           Daily Confirmed Cases Daily Death Cases  \n",
       "2020-02-01                   NaN               NaN  \n",
       "2020-02-02                     0                 0  \n",
       "2020-02-03                     0                 0  \n",
       "2020-02-04                     0                 0  \n",
       "2020-02-05                     0                 0  "
      ]
     },
     "execution_count": 80,
     "metadata": {},
     "output_type": "execute_result"
    }
   ],
   "source": [
    "# Convert accumulated data into daily using diff()\n",
    "combined['Daily Confirmed Cases'] = combined['Accumulated Confirmed Cases'].diff()\n",
    "combined['Daily Death Cases'] = combined['Accumulated Death Cases'].diff()\n",
    "combined.head()"
   ]
  },
  {
   "cell_type": "code",
   "execution_count": 81,
   "metadata": {},
   "outputs": [
    {
     "data": {
      "text/plain": [
       "16     4/26/20\n",
       "17     4/27/20\n",
       "18     4/28/20\n",
       "19     4/29/20\n",
       "20     4/30/20\n",
       "        ...   \n",
       "433    6/17/21\n",
       "434    6/18/21\n",
       "435    6/19/21\n",
       "436    6/20/21\n",
       "437    6/21/21\n",
       "Name: date, Length: 419, dtype: object"
      ]
     },
     "execution_count": 81,
     "metadata": {},
     "output_type": "execute_result"
    }
   ],
   "source": [
    "mask_df[mask_df['Face_Masks_Required_in_Public'] == 'Yes']['date']"
   ]
  },
  {
   "cell_type": "markdown",
   "metadata": {},
   "source": [
    "We now know that the mask mandate period is from April 26 2020 to June 21 2021. We can include these two lines in the time series chart to see if mask mandate makes any difference to the daily confirmed cases."
   ]
  },
  {
   "cell_type": "markdown",
   "metadata": {},
   "source": [
    "### Data Visualization"
   ]
  },
  {
   "cell_type": "code",
   "execution_count": 82,
   "metadata": {},
   "outputs": [
    {
     "data": {
      "image/png": "[encoded data removed]",
      "text/plain": [
       "<Figure size 1440x720 with 1 Axes>"
      ]
     },
     "metadata": {
      "needs_background": "light"
     },
     "output_type": "display_data"
    }
   ],
   "source": [
    "\n",
    "plt.rcParams[\"figure.figsize\"] = (20,10)\n",
    "sns.lineplot(data = combined[['Daily Confirmed Cases','Daily Death Cases']])\n",
    "plt.title('Comparison of Daily Confirmed and Death Cases')\n",
    "plt.xlabel('Date') \n",
    "plt.ylabel('Number of Cases') \n",
    "plt.xticks(rotation = 45);"
   ]
  },
  {
   "cell_type": "markdown",
   "metadata": {},
   "source": [
    "We can see from the chart above that there are many days with 0 cases, likely due to data mishandling. This can be mitigated using rolling average. A 5 day rolling window has been chosen to smoothen the curve. Then we will study the percentage change of the 5-day moving average."
   ]
  },
  {
   "cell_type": "code",
   "execution_count": 83,
   "metadata": {},
   "outputs": [],
   "source": [
    "# Calculate the moving average\n",
    "combined['5-day Moving Average for Confirmed Cases'] = combined['Daily Confirmed Cases'].rolling(5).mean()\n",
    "\n",
    "# Calculate the percent change in moving average.\n",
    "combined['Percent Change for Moving Average'] = combined['5-day Moving Average for Confirmed Cases'].pct_change()"
   ]
  },
  {
   "cell_type": "code",
   "execution_count": 84,
   "metadata": {},
   "outputs": [
    {
     "data": {
      "image/png": "[encoded data removed]",
      "text/plain": [
       "<Figure size 1440x720 with 1 Axes>"
      ]
     },
     "metadata": {
      "needs_background": "light"
     },
     "output_type": "display_data"
    }
   ],
   "source": [
    "# Visualising the moving average\n",
    "plt.rcParams[\"figure.figsize\"] = (20,10)\n",
    "sns.lineplot(data = combined['5-day Moving Average for Confirmed Cases'])\n",
    "plt.axvline(x = pd.to_datetime('4/26/20'), color = 'r', label = 'Beginning of Mask Mandate')\n",
    "plt.axvline(x = pd.to_datetime('6/21/21'), color = 'r', label = 'End of Mask Mandate')\n",
    "\n",
    "\n",
    "plt.title('Moving Average for Confirmed Cases in Macomb County, Michigan')\n",
    "plt.xlabel('Date')\n",
    "plt.ylabel('Confirmed Cases')\n",
    "plt.xticks(rotation = 45);"
   ]
  },
  {
   "cell_type": "markdown",
   "metadata": {},
   "source": [
    "The period between the two red lines indicates the time where mask mandate is being enforced in Macomb county, Michigan. We can see that there are two peaks during that period. A quick search on the internet shows that during the first peak in November 2020 and December 2020, Macomb county went under a lock down, which could have flattened the curve. After mask mandate was lifted in June 2021, we can see a clear climb in cases starting in September 2021, which is the beginning of the Delta variant. "
   ]
  },
  {
   "cell_type": "code",
   "execution_count": 85,
   "metadata": {},
   "outputs": [
    {
     "data": {
      "image/png": "[encoded data removed]",
      "text/plain": [
       "<Figure size 1440x720 with 1 Axes>"
      ]
     },
     "metadata": {
      "needs_background": "light"
     },
     "output_type": "display_data"
    }
   ],
   "source": [
    "# Visualising the percent change\n",
    "plt.title(\"Trend for 5-Day Moving Average in Macomb County, Michigan\")\n",
    "plt.rcParams[\"figure.figsize\"] = (20,10)\n",
    "sns.lineplot(data = combined[['Percent Change for Moving Average']])\n",
    "plt.axvline(x = pd.to_datetime('4/26/20'), color = 'r', label = 'Beginning of Mask Mandate')\n",
    "plt.axvline(x = pd.to_datetime('6/21/21'), color = 'r', label = 'Beginning of Mask Mandate')\n",
    "\n",
    "plt.xlabel('Date')\n",
    "plt.ylabel('Percent Change %')\n",
    "plt.xticks(rotation = 45);"
   ]
  },
  {
   "cell_type": "markdown",
   "metadata": {},
   "source": [
    "Here, we are taking a closer look at the impact of mask mandate by looking at the percentage change in confirmed cases. We can see during the period of mask mandate, the percentage change is constantly fluctuating around 0%. However, after the mask mandate has been lifted, the fluctuation increases by a big degree. The percentage change after April 2022 shows a very consistent trend and does not follow any patterns during the period before that. It is suspected that there are alot of data mishandling during this period."
   ]
  },
  {
   "cell_type": "markdown",
   "metadata": {},
   "source": [
    "## PART 2: Extension plan\n",
    "#### The impact of vaccination rate, COVID-19 cases, deaths and unemployment rate in Macomb County, Michigan.\n",
    "In the following part of the notebook, we will explore the impact of vaccination rate on the number of COVID-19 cases and deaths and the unemployment rate in Macomb County, Michigan. These three time series each has different time range and frequency, which will be standardized during the data cleaning procedure. The relationship between the three will be studied using Granger causality test and Pearson correlation test. "
   ]
  },
  {
   "cell_type": "markdown",
   "metadata": {},
   "source": [
    "### Reading in Data"
   ]
  },
  {
   "cell_type": "markdown",
   "metadata": {},
   "source": [
    "Users should insert the data path that contains the excel file aggregated.xlsx under dir_path."
   ]
  },
  {
   "cell_type": "code",
   "execution_count": 2,
   "metadata": {},
   "outputs": [],
   "source": [
    "# Data path\n",
    "dir_path = '<insert path here>'\n",
    "data = 'aggregated.xlsx'\n",
    "demographic_sheet = 'Demographics'         # file containing demographics of people receiving dosage.\n",
    "dosage_sheet ='Dosage'                     # file containing number of people receiving dosage.\n",
    "cases_sheet = 'Confirmed cases'            # file containing number of confirmed cases.\n",
    "unemployment_sheet = 'Unemployment'        # file containing number of unemployment cases."
   ]
  },
  {
   "cell_type": "code",
   "execution_count": 3,
   "metadata": {},
   "outputs": [
    {
     "data": {
      "text/html": [
       "<div>\n",
       "<style scoped>\n",
       "    .dataframe tbody tr th:only-of-type {\n",
       "        vertical-align: middle;\n",
       "    }\n",
       "\n",
       "    .dataframe tbody tr th {\n",
       "        vertical-align: top;\n",
       "    }\n",
       "\n",
       "    .dataframe thead th {\n",
       "        text-align: right;\n",
       "    }\n",
       "</style>\n",
       "<table border=\"1\" class=\"dataframe\">\n",
       "  <thead>\n",
       "    <tr style=\"text-align: right;\">\n",
       "      <th></th>\n",
       "      <th>Date</th>\n",
       "      <th>Num_cases</th>\n",
       "      <th>Num_deaths</th>\n",
       "    </tr>\n",
       "  </thead>\n",
       "  <tbody>\n",
       "    <tr>\n",
       "      <th>0</th>\n",
       "      <td>2020-01-23</td>\n",
       "      <td>0</td>\n",
       "      <td>0</td>\n",
       "    </tr>\n",
       "    <tr>\n",
       "      <th>1</th>\n",
       "      <td>2020-01-24</td>\n",
       "      <td>0</td>\n",
       "      <td>0</td>\n",
       "    </tr>\n",
       "    <tr>\n",
       "      <th>2</th>\n",
       "      <td>2020-01-25</td>\n",
       "      <td>0</td>\n",
       "      <td>0</td>\n",
       "    </tr>\n",
       "    <tr>\n",
       "      <th>3</th>\n",
       "      <td>2020-01-26</td>\n",
       "      <td>0</td>\n",
       "      <td>0</td>\n",
       "    </tr>\n",
       "    <tr>\n",
       "      <th>4</th>\n",
       "      <td>2020-01-27</td>\n",
       "      <td>0</td>\n",
       "      <td>0</td>\n",
       "    </tr>\n",
       "  </tbody>\n",
       "</table>\n",
       "</div>"
      ],
      "text/plain": [
       "        Date  Num_cases  Num_deaths\n",
       "0 2020-01-23          0           0\n",
       "1 2020-01-24          0           0\n",
       "2 2020-01-25          0           0\n",
       "3 2020-01-26          0           0\n",
       "4 2020-01-27          0           0"
      ]
     },
     "execution_count": 3,
     "metadata": {},
     "output_type": "execute_result"
    }
   ],
   "source": [
    "# Read in confirmed cases\n",
    "cases = pd.read_excel(os.path.join(dir_path,data), sheet_name = cases_sheet )\n",
    "cases.head()"
   ]
  },
  {
   "cell_type": "code",
   "execution_count": 4,
   "metadata": {},
   "outputs": [
    {
     "data": {
      "text/html": [
       "<div>\n",
       "<style scoped>\n",
       "    .dataframe tbody tr th:only-of-type {\n",
       "        vertical-align: middle;\n",
       "    }\n",
       "\n",
       "    .dataframe tbody tr th {\n",
       "        vertical-align: top;\n",
       "    }\n",
       "\n",
       "    .dataframe thead th {\n",
       "        text-align: right;\n",
       "    }\n",
       "</style>\n",
       "<table border=\"1\" class=\"dataframe\">\n",
       "  <thead>\n",
       "    <tr style=\"text-align: right;\">\n",
       "      <th></th>\n",
       "      <th>Person's Residence in Preparedness Region</th>\n",
       "      <th>Person's Residence in Local Health Department Jurisdiction</th>\n",
       "      <th>Person's Residence in County</th>\n",
       "      <th>Sex</th>\n",
       "      <th>Age Group</th>\n",
       "      <th>Vaccine Type</th>\n",
       "      <th>Dose Number</th>\n",
       "      <th>Week Ending Date</th>\n",
       "      <th>Doses Administered</th>\n",
       "    </tr>\n",
       "  </thead>\n",
       "  <tbody>\n",
       "    <tr>\n",
       "      <th>0</th>\n",
       "      <td>Region 2N</td>\n",
       "      <td>Macomb County Health Department</td>\n",
       "      <td>Macomb</td>\n",
       "      <td>F</td>\n",
       "      <td>16-19 years</td>\n",
       "      <td>Pfizer</td>\n",
       "      <td>First Dose</td>\n",
       "      <td>2020-12-26</td>\n",
       "      <td>8</td>\n",
       "    </tr>\n",
       "    <tr>\n",
       "      <th>1</th>\n",
       "      <td>Region 2N</td>\n",
       "      <td>Macomb County Health Department</td>\n",
       "      <td>Macomb</td>\n",
       "      <td>F</td>\n",
       "      <td>20-29 years</td>\n",
       "      <td>Moderna</td>\n",
       "      <td>First Dose</td>\n",
       "      <td>2020-12-26</td>\n",
       "      <td>11</td>\n",
       "    </tr>\n",
       "    <tr>\n",
       "      <th>2</th>\n",
       "      <td>Region 2N</td>\n",
       "      <td>Macomb County Health Department</td>\n",
       "      <td>Macomb</td>\n",
       "      <td>F</td>\n",
       "      <td>20-29 years</td>\n",
       "      <td>Pfizer</td>\n",
       "      <td>First Dose</td>\n",
       "      <td>2020-12-26</td>\n",
       "      <td>430</td>\n",
       "    </tr>\n",
       "    <tr>\n",
       "      <th>3</th>\n",
       "      <td>Region 2N</td>\n",
       "      <td>Macomb County Health Department</td>\n",
       "      <td>Macomb</td>\n",
       "      <td>F</td>\n",
       "      <td>20-29 years</td>\n",
       "      <td>Pfizer</td>\n",
       "      <td>Second Dose</td>\n",
       "      <td>2020-12-26</td>\n",
       "      <td>3</td>\n",
       "    </tr>\n",
       "    <tr>\n",
       "      <th>4</th>\n",
       "      <td>Region 2N</td>\n",
       "      <td>Macomb County Health Department</td>\n",
       "      <td>Macomb</td>\n",
       "      <td>F</td>\n",
       "      <td>30-39 years</td>\n",
       "      <td>Moderna</td>\n",
       "      <td>First Dose</td>\n",
       "      <td>2020-12-26</td>\n",
       "      <td>2</td>\n",
       "    </tr>\n",
       "  </tbody>\n",
       "</table>\n",
       "</div>"
      ],
      "text/plain": [
       "  Person's Residence in Preparedness Region  \\\n",
       "0                                 Region 2N   \n",
       "1                                 Region 2N   \n",
       "2                                 Region 2N   \n",
       "3                                 Region 2N   \n",
       "4                                 Region 2N   \n",
       "\n",
       "  Person's Residence in Local Health Department Jurisdiction  \\\n",
       "0                    Macomb County Health Department           \n",
       "1                    Macomb County Health Department           \n",
       "2                    Macomb County Health Department           \n",
       "3                    Macomb County Health Department           \n",
       "4                    Macomb County Health Department           \n",
       "\n",
       "  Person's Residence in County Sex    Age Group Vaccine Type  Dose Number  \\\n",
       "0                       Macomb   F  16-19 years       Pfizer   First Dose   \n",
       "1                       Macomb   F  20-29 years      Moderna   First Dose   \n",
       "2                       Macomb   F  20-29 years       Pfizer   First Dose   \n",
       "3                       Macomb   F  20-29 years       Pfizer  Second Dose   \n",
       "4                       Macomb   F  30-39 years      Moderna   First Dose   \n",
       "\n",
       "  Week Ending Date  Doses Administered  \n",
       "0       2020-12-26                   8  \n",
       "1       2020-12-26                  11  \n",
       "2       2020-12-26                 430  \n",
       "3       2020-12-26                   3  \n",
       "4       2020-12-26                   2  "
      ]
     },
     "execution_count": 4,
     "metadata": {},
     "output_type": "execute_result"
    }
   ],
   "source": [
    "# Read in demographic\n",
    "demographic = pd.read_excel(os.path.join(dir_path,data), sheet_name = demographic_sheet )\n",
    "demographic.head()"
   ]
  },
  {
   "cell_type": "code",
   "execution_count": 5,
   "metadata": {},
   "outputs": [
    {
     "data": {
      "text/html": [
       "<div>\n",
       "<style scoped>\n",
       "    .dataframe tbody tr th:only-of-type {\n",
       "        vertical-align: middle;\n",
       "    }\n",
       "\n",
       "    .dataframe tbody tr th {\n",
       "        vertical-align: top;\n",
       "    }\n",
       "\n",
       "    .dataframe thead th {\n",
       "        text-align: right;\n",
       "    }\n",
       "</style>\n",
       "<table border=\"1\" class=\"dataframe\">\n",
       "  <thead>\n",
       "    <tr style=\"text-align: right;\">\n",
       "      <th></th>\n",
       "      <th>Person's Residence in Preparedness Region</th>\n",
       "      <th>Person's Residence in Local Health Department Jurisdiction</th>\n",
       "      <th>Person's Residence in County</th>\n",
       "      <th>Vaccine Type</th>\n",
       "      <th>Facility Type</th>\n",
       "      <th>Dose Number</th>\n",
       "      <th>Week Ending Date</th>\n",
       "      <th>Data as of</th>\n",
       "      <th>Number of Doses</th>\n",
       "    </tr>\n",
       "  </thead>\n",
       "  <tbody>\n",
       "    <tr>\n",
       "      <th>0</th>\n",
       "      <td>Region 2N</td>\n",
       "      <td>Macomb County Health Department</td>\n",
       "      <td>Macomb</td>\n",
       "      <td>Pfizer</td>\n",
       "      <td>Hospital</td>\n",
       "      <td>First Dose</td>\n",
       "      <td>2020-12-26</td>\n",
       "      <td>2020-12-20</td>\n",
       "      <td>92</td>\n",
       "    </tr>\n",
       "    <tr>\n",
       "      <th>1</th>\n",
       "      <td>Region 2N</td>\n",
       "      <td>Macomb County Health Department</td>\n",
       "      <td>Macomb</td>\n",
       "      <td>Pfizer</td>\n",
       "      <td>Local Health Department</td>\n",
       "      <td>First Dose</td>\n",
       "      <td>2020-12-26</td>\n",
       "      <td>2020-12-20</td>\n",
       "      <td>9</td>\n",
       "    </tr>\n",
       "    <tr>\n",
       "      <th>2</th>\n",
       "      <td>Region 2N</td>\n",
       "      <td>Macomb County Health Department</td>\n",
       "      <td>Macomb</td>\n",
       "      <td>Pfizer</td>\n",
       "      <td>Pharmacy</td>\n",
       "      <td>First Dose</td>\n",
       "      <td>2020-12-26</td>\n",
       "      <td>2020-12-20</td>\n",
       "      <td>9</td>\n",
       "    </tr>\n",
       "    <tr>\n",
       "      <th>3</th>\n",
       "      <td>Region 2N</td>\n",
       "      <td>Macomb County Health Department</td>\n",
       "      <td>Macomb</td>\n",
       "      <td>Pfizer</td>\n",
       "      <td>Family Practice</td>\n",
       "      <td>First Dose</td>\n",
       "      <td>2020-12-26</td>\n",
       "      <td>2020-12-21</td>\n",
       "      <td>4</td>\n",
       "    </tr>\n",
       "    <tr>\n",
       "      <th>4</th>\n",
       "      <td>Region 2N</td>\n",
       "      <td>Macomb County Health Department</td>\n",
       "      <td>Macomb</td>\n",
       "      <td>Pfizer</td>\n",
       "      <td>Hospital</td>\n",
       "      <td>First Dose</td>\n",
       "      <td>2020-12-26</td>\n",
       "      <td>2020-12-21</td>\n",
       "      <td>888</td>\n",
       "    </tr>\n",
       "  </tbody>\n",
       "</table>\n",
       "</div>"
      ],
      "text/plain": [
       "  Person's Residence in Preparedness Region  \\\n",
       "0                                 Region 2N   \n",
       "1                                 Region 2N   \n",
       "2                                 Region 2N   \n",
       "3                                 Region 2N   \n",
       "4                                 Region 2N   \n",
       "\n",
       "  Person's Residence in Local Health Department Jurisdiction  \\\n",
       "0                    Macomb County Health Department           \n",
       "1                    Macomb County Health Department           \n",
       "2                    Macomb County Health Department           \n",
       "3                    Macomb County Health Department           \n",
       "4                    Macomb County Health Department           \n",
       "\n",
       "  Person's Residence in County Vaccine Type            Facility Type  \\\n",
       "0                       Macomb       Pfizer                 Hospital   \n",
       "1                       Macomb       Pfizer  Local Health Department   \n",
       "2                       Macomb       Pfizer                 Pharmacy   \n",
       "3                       Macomb       Pfizer          Family Practice   \n",
       "4                       Macomb       Pfizer                 Hospital   \n",
       "\n",
       "  Dose Number Week Ending Date Data as of  Number of Doses  \n",
       "0  First Dose       2020-12-26 2020-12-20               92  \n",
       "1  First Dose       2020-12-26 2020-12-20                9  \n",
       "2  First Dose       2020-12-26 2020-12-20                9  \n",
       "3  First Dose       2020-12-26 2020-12-21                4  \n",
       "4  First Dose       2020-12-26 2020-12-21              888  "
      ]
     },
     "execution_count": 5,
     "metadata": {},
     "output_type": "execute_result"
    }
   ],
   "source": [
    "# Read in dosage\n",
    "dosage = pd.read_excel(os.path.join(dir_path,data), sheet_name = dosage_sheet )\n",
    "dosage.head()"
   ]
  },
  {
   "cell_type": "code",
   "execution_count": 6,
   "metadata": {},
   "outputs": [
    {
     "data": {
      "text/plain": [
       "Date                 datetime64[ns]\n",
       "Unemployment Rate           float64\n",
       "dtype: object"
      ]
     },
     "execution_count": 6,
     "metadata": {},
     "output_type": "execute_result"
    }
   ],
   "source": [
    "# Read in unemployment\n",
    "unemployment = pd.read_excel(os.path.join(dir_path,data), sheet_name = unemployment_sheet )\n",
    "unemployment['Date'] = pd.to_datetime(unemployment['Date'].dt.strftime('%Y-%m'))\n",
    "unemployment.dtypes"
   ]
  },
  {
   "cell_type": "markdown",
   "metadata": {},
   "source": [
    "### Data Cleaning and Manipulation"
   ]
  },
  {
   "cell_type": "markdown",
   "metadata": {},
   "source": [
    "Considering that unemployment data is monthly frequency, we would need to aggregate cases, dosage and demographic into monthly frequency for better comparison."
   ]
  },
  {
   "cell_type": "code",
   "execution_count": 7,
   "metadata": {},
   "outputs": [
    {
     "name": "stderr",
     "output_type": "stream",
     "text": [
      "/var/folders/zd/c28nct6s5454q__hl8mn2xbc0000gn/T/ipykernel_64225/2110849900.py:4: FutureWarning: Indexing with multiple keys (implicitly converted to a tuple of keys) will be deprecated, use a list instead.\n",
      "  cases_gb = cases.groupby(pd.Grouper(freq = 'M'))['Num_cases','Num_deaths'].agg('sum')\n"
     ]
    },
    {
     "data": {
      "text/html": [
       "<div>\n",
       "<style scoped>\n",
       "    .dataframe tbody tr th:only-of-type {\n",
       "        vertical-align: middle;\n",
       "    }\n",
       "\n",
       "    .dataframe tbody tr th {\n",
       "        vertical-align: top;\n",
       "    }\n",
       "\n",
       "    .dataframe thead th {\n",
       "        text-align: right;\n",
       "    }\n",
       "</style>\n",
       "<table border=\"1\" class=\"dataframe\">\n",
       "  <thead>\n",
       "    <tr style=\"text-align: right;\">\n",
       "      <th></th>\n",
       "      <th>Num_cases</th>\n",
       "      <th>Num_deaths</th>\n",
       "    </tr>\n",
       "    <tr>\n",
       "      <th>Date</th>\n",
       "      <th></th>\n",
       "      <th></th>\n",
       "    </tr>\n",
       "  </thead>\n",
       "  <tbody>\n",
       "    <tr>\n",
       "      <th>2020-01-31</th>\n",
       "      <td>0</td>\n",
       "      <td>0</td>\n",
       "    </tr>\n",
       "    <tr>\n",
       "      <th>2020-02-29</th>\n",
       "      <td>0</td>\n",
       "      <td>0</td>\n",
       "    </tr>\n",
       "    <tr>\n",
       "      <th>2020-03-31</th>\n",
       "      <td>855</td>\n",
       "      <td>40</td>\n",
       "    </tr>\n",
       "    <tr>\n",
       "      <th>2020-04-30</th>\n",
       "      <td>4701</td>\n",
       "      <td>582</td>\n",
       "    </tr>\n",
       "    <tr>\n",
       "      <th>2020-05-31</th>\n",
       "      <td>1286</td>\n",
       "      <td>224</td>\n",
       "    </tr>\n",
       "  </tbody>\n",
       "</table>\n",
       "</div>"
      ],
      "text/plain": [
       "            Num_cases  Num_deaths\n",
       "Date                             \n",
       "2020-01-31          0           0\n",
       "2020-02-29          0           0\n",
       "2020-03-31        855          40\n",
       "2020-04-30       4701         582\n",
       "2020-05-31       1286         224"
      ]
     },
     "execution_count": 7,
     "metadata": {},
     "output_type": "execute_result"
    }
   ],
   "source": [
    "# Aggregating cases, dosage and demographic\n",
    "cases.dtypes\n",
    "cases.index = pd.to_datetime(cases['Date'],format = 'YYYY-MM')\n",
    "cases_gb = cases.groupby(pd.Grouper(freq = 'M'))['Num_cases','Num_deaths'].agg('sum')\n",
    "cases_gb.head()"
   ]
  },
  {
   "cell_type": "code",
   "execution_count": 8,
   "metadata": {},
   "outputs": [
    {
     "data": {
      "text/plain": [
       "Data as of  Dose Number\n",
       "2020-12-31  First Dose       8919\n",
       "            Second Dose        26\n",
       "2021-01-31  First Dose      48074\n",
       "            Second Dose     16525\n",
       "2021-02-28  First Dose      57220\n",
       "            Second Dose     50186\n",
       "2021-03-31  First Dose     107777\n",
       "            Second Dose     68753\n",
       "2021-04-30  First Dose     129544\n",
       "            Second Dose    104562\n",
       "2021-05-31  First Dose      46902\n",
       "            Second Dose     88315\n",
       "2021-06-30  First Dose      17859\n",
       "            Second Dose     36797\n",
       "2021-07-31  First Dose      14552\n",
       "            Second Dose     12794\n",
       "2021-08-31  First Dose      19800\n",
       "            Second Dose     15268\n",
       "2021-09-30  First Dose      12503\n",
       "            Second Dose     14903\n",
       "2021-10-31  First Dose       9445\n",
       "            Second Dose     10409\n",
       "2021-11-30  First Dose      17535\n",
       "            Second Dose      8699\n",
       "2021-12-31  First Dose      16281\n",
       "            Second Dose     14911\n",
       "2022-01-31  First Dose      11057\n",
       "            Second Dose     11246\n",
       "2022-02-28  First Dose       3212\n",
       "            Second Dose      5787\n",
       "2022-03-31  First Dose       1916\n",
       "            Second Dose      2577\n",
       "2022-04-30  First Dose       1631\n",
       "            Second Dose      1951\n",
       "2022-05-31  First Dose       1603\n",
       "            Second Dose      1719\n",
       "2022-06-30  First Dose       1514\n",
       "            Second Dose      1339\n",
       "2022-07-31  First Dose       1923\n",
       "            Second Dose      1490\n",
       "2022-08-31  First Dose       1832\n",
       "            Second Dose      1665\n",
       "2022-09-30  First Dose        891\n",
       "            Second Dose      1039\n",
       "            Third Dose        240\n",
       "2022-10-31  First Dose        648\n",
       "            Second Dose       619\n",
       "            Third Dose        211\n",
       "2022-11-30  First Dose         19\n",
       "            Second Dose        12\n",
       "            Third Dose          7\n",
       "Name: Number of Doses, dtype: int64"
      ]
     },
     "execution_count": 8,
     "metadata": {},
     "output_type": "execute_result"
    }
   ],
   "source": [
    "dosage.dtypes\n",
    "dosage.index = pd.to_datetime(dosage['Data as of'],format = 'YYYY-MM-DD')\n",
    "dose_gb = dosage.groupby([pd.Grouper(freq = 'M'),'Dose Number'])['Number of Doses'].agg('sum')\n",
    "dose_gb"
   ]
  },
  {
   "cell_type": "code",
   "execution_count": 9,
   "metadata": {},
   "outputs": [
    {
     "data": {
      "text/plain": [
       "Week Ending Date  Dose Number  Age Group    \n",
       "2020-12-31        First Dose   16-19 years        13\n",
       "                               20-29 years       671\n",
       "                               30-39 years       894\n",
       "                               40-49 years       783\n",
       "                               50-64 years      1122\n",
       "                                                ... \n",
       "2022-11-30        Second Dose  30-39 years         4\n",
       "                               40-49 years         4\n",
       "                               5-11 years          6\n",
       "                               under 5 years      11\n",
       "                  Third Dose   under 5 years      10\n",
       "Name: Doses Administered, Length: 432, dtype: int64"
      ]
     },
     "execution_count": 9,
     "metadata": {},
     "output_type": "execute_result"
    }
   ],
   "source": [
    "demographic.dtypes\n",
    "demographic.index = pd.to_datetime(demographic['Week Ending Date'],format = 'YYYY-MM-DD')\n",
    "demographic_gb = demographic.groupby([pd.Grouper(freq = 'M'),'Dose Number','Age Group'])['Doses Administered'].agg('sum')\n",
    "demographic_gb"
   ]
  },
  {
   "cell_type": "markdown",
   "metadata": {},
   "source": [
    "For this research, we will only be using vaccination dosage data. We can see that the aggregated results have multi layer index. We will then proceed to pivot the table to analyse the data better.  "
   ]
  },
  {
   "cell_type": "code",
   "execution_count": 10,
   "metadata": {},
   "outputs": [
    {
     "data": {
      "text/html": [
       "<div>\n",
       "<style scoped>\n",
       "    .dataframe tbody tr th:only-of-type {\n",
       "        vertical-align: middle;\n",
       "    }\n",
       "\n",
       "    .dataframe tbody tr th {\n",
       "        vertical-align: top;\n",
       "    }\n",
       "\n",
       "    .dataframe thead tr th {\n",
       "        text-align: left;\n",
       "    }\n",
       "</style>\n",
       "<table border=\"1\" class=\"dataframe\">\n",
       "  <thead>\n",
       "    <tr>\n",
       "      <th></th>\n",
       "      <th>Date</th>\n",
       "      <th colspan=\"3\" halign=\"left\">Number of Doses</th>\n",
       "    </tr>\n",
       "    <tr>\n",
       "      <th>Dose Number</th>\n",
       "      <th></th>\n",
       "      <th>First Dose</th>\n",
       "      <th>Second Dose</th>\n",
       "      <th>Third Dose</th>\n",
       "    </tr>\n",
       "  </thead>\n",
       "  <tbody>\n",
       "    <tr>\n",
       "      <th>0</th>\n",
       "      <td>2020-12-01</td>\n",
       "      <td>8919.0</td>\n",
       "      <td>26.0</td>\n",
       "      <td>NaN</td>\n",
       "    </tr>\n",
       "    <tr>\n",
       "      <th>1</th>\n",
       "      <td>2021-01-01</td>\n",
       "      <td>48074.0</td>\n",
       "      <td>16525.0</td>\n",
       "      <td>NaN</td>\n",
       "    </tr>\n",
       "    <tr>\n",
       "      <th>2</th>\n",
       "      <td>2021-02-01</td>\n",
       "      <td>57220.0</td>\n",
       "      <td>50186.0</td>\n",
       "      <td>NaN</td>\n",
       "    </tr>\n",
       "    <tr>\n",
       "      <th>3</th>\n",
       "      <td>2021-03-01</td>\n",
       "      <td>107777.0</td>\n",
       "      <td>68753.0</td>\n",
       "      <td>NaN</td>\n",
       "    </tr>\n",
       "    <tr>\n",
       "      <th>4</th>\n",
       "      <td>2021-04-01</td>\n",
       "      <td>129544.0</td>\n",
       "      <td>104562.0</td>\n",
       "      <td>NaN</td>\n",
       "    </tr>\n",
       "    <tr>\n",
       "      <th>5</th>\n",
       "      <td>2021-05-01</td>\n",
       "      <td>46902.0</td>\n",
       "      <td>88315.0</td>\n",
       "      <td>NaN</td>\n",
       "    </tr>\n",
       "    <tr>\n",
       "      <th>6</th>\n",
       "      <td>2021-06-01</td>\n",
       "      <td>17859.0</td>\n",
       "      <td>36797.0</td>\n",
       "      <td>NaN</td>\n",
       "    </tr>\n",
       "    <tr>\n",
       "      <th>7</th>\n",
       "      <td>2021-07-01</td>\n",
       "      <td>14552.0</td>\n",
       "      <td>12794.0</td>\n",
       "      <td>NaN</td>\n",
       "    </tr>\n",
       "    <tr>\n",
       "      <th>8</th>\n",
       "      <td>2021-08-01</td>\n",
       "      <td>19800.0</td>\n",
       "      <td>15268.0</td>\n",
       "      <td>NaN</td>\n",
       "    </tr>\n",
       "    <tr>\n",
       "      <th>9</th>\n",
       "      <td>2021-09-01</td>\n",
       "      <td>12503.0</td>\n",
       "      <td>14903.0</td>\n",
       "      <td>NaN</td>\n",
       "    </tr>\n",
       "    <tr>\n",
       "      <th>10</th>\n",
       "      <td>2021-10-01</td>\n",
       "      <td>9445.0</td>\n",
       "      <td>10409.0</td>\n",
       "      <td>NaN</td>\n",
       "    </tr>\n",
       "    <tr>\n",
       "      <th>11</th>\n",
       "      <td>2021-11-01</td>\n",
       "      <td>17535.0</td>\n",
       "      <td>8699.0</td>\n",
       "      <td>NaN</td>\n",
       "    </tr>\n",
       "    <tr>\n",
       "      <th>12</th>\n",
       "      <td>2021-12-01</td>\n",
       "      <td>16281.0</td>\n",
       "      <td>14911.0</td>\n",
       "      <td>NaN</td>\n",
       "    </tr>\n",
       "    <tr>\n",
       "      <th>13</th>\n",
       "      <td>2022-01-01</td>\n",
       "      <td>11057.0</td>\n",
       "      <td>11246.0</td>\n",
       "      <td>NaN</td>\n",
       "    </tr>\n",
       "    <tr>\n",
       "      <th>14</th>\n",
       "      <td>2022-02-01</td>\n",
       "      <td>3212.0</td>\n",
       "      <td>5787.0</td>\n",
       "      <td>NaN</td>\n",
       "    </tr>\n",
       "    <tr>\n",
       "      <th>15</th>\n",
       "      <td>2022-03-01</td>\n",
       "      <td>1916.0</td>\n",
       "      <td>2577.0</td>\n",
       "      <td>NaN</td>\n",
       "    </tr>\n",
       "    <tr>\n",
       "      <th>16</th>\n",
       "      <td>2022-04-01</td>\n",
       "      <td>1631.0</td>\n",
       "      <td>1951.0</td>\n",
       "      <td>NaN</td>\n",
       "    </tr>\n",
       "    <tr>\n",
       "      <th>17</th>\n",
       "      <td>2022-05-01</td>\n",
       "      <td>1603.0</td>\n",
       "      <td>1719.0</td>\n",
       "      <td>NaN</td>\n",
       "    </tr>\n",
       "    <tr>\n",
       "      <th>18</th>\n",
       "      <td>2022-06-01</td>\n",
       "      <td>1514.0</td>\n",
       "      <td>1339.0</td>\n",
       "      <td>NaN</td>\n",
       "    </tr>\n",
       "    <tr>\n",
       "      <th>19</th>\n",
       "      <td>2022-07-01</td>\n",
       "      <td>1923.0</td>\n",
       "      <td>1490.0</td>\n",
       "      <td>NaN</td>\n",
       "    </tr>\n",
       "    <tr>\n",
       "      <th>20</th>\n",
       "      <td>2022-08-01</td>\n",
       "      <td>1832.0</td>\n",
       "      <td>1665.0</td>\n",
       "      <td>NaN</td>\n",
       "    </tr>\n",
       "    <tr>\n",
       "      <th>21</th>\n",
       "      <td>2022-09-01</td>\n",
       "      <td>891.0</td>\n",
       "      <td>1039.0</td>\n",
       "      <td>240.0</td>\n",
       "    </tr>\n",
       "    <tr>\n",
       "      <th>22</th>\n",
       "      <td>2022-10-01</td>\n",
       "      <td>648.0</td>\n",
       "      <td>619.0</td>\n",
       "      <td>211.0</td>\n",
       "    </tr>\n",
       "    <tr>\n",
       "      <th>23</th>\n",
       "      <td>2022-11-01</td>\n",
       "      <td>19.0</td>\n",
       "      <td>12.0</td>\n",
       "      <td>7.0</td>\n",
       "    </tr>\n",
       "  </tbody>\n",
       "</table>\n",
       "</div>"
      ],
      "text/plain": [
       "                  Date Number of Doses                       \n",
       "Dose Number                 First Dose Second Dose Third Dose\n",
       "0           2020-12-01          8919.0        26.0        NaN\n",
       "1           2021-01-01         48074.0     16525.0        NaN\n",
       "2           2021-02-01         57220.0     50186.0        NaN\n",
       "3           2021-03-01        107777.0     68753.0        NaN\n",
       "4           2021-04-01        129544.0    104562.0        NaN\n",
       "5           2021-05-01         46902.0     88315.0        NaN\n",
       "6           2021-06-01         17859.0     36797.0        NaN\n",
       "7           2021-07-01         14552.0     12794.0        NaN\n",
       "8           2021-08-01         19800.0     15268.0        NaN\n",
       "9           2021-09-01         12503.0     14903.0        NaN\n",
       "10          2021-10-01          9445.0     10409.0        NaN\n",
       "11          2021-11-01         17535.0      8699.0        NaN\n",
       "12          2021-12-01         16281.0     14911.0        NaN\n",
       "13          2022-01-01         11057.0     11246.0        NaN\n",
       "14          2022-02-01          3212.0      5787.0        NaN\n",
       "15          2022-03-01          1916.0      2577.0        NaN\n",
       "16          2022-04-01          1631.0      1951.0        NaN\n",
       "17          2022-05-01          1603.0      1719.0        NaN\n",
       "18          2022-06-01          1514.0      1339.0        NaN\n",
       "19          2022-07-01          1923.0      1490.0        NaN\n",
       "20          2022-08-01          1832.0      1665.0        NaN\n",
       "21          2022-09-01           891.0      1039.0      240.0\n",
       "22          2022-10-01           648.0       619.0      211.0\n",
       "23          2022-11-01            19.0        12.0        7.0"
      ]
     },
     "execution_count": 10,
     "metadata": {},
     "output_type": "execute_result"
    }
   ],
   "source": [
    "# Pivot dose_gb\n",
    "dose_df = pd.DataFrame(dose_gb).reset_index()\n",
    "dose_df.rename(columns = {'Data as of':'Date'}, inplace = True)\n",
    "dose_df = dose_df.pivot(index = 'Date', columns = 'Dose Number').reset_index()\n",
    "dose_df['Date'] = pd.to_datetime(dose_df['Date'].dt.strftime('%Y-%m'))\n",
    "dose_df"
   ]
  },
  {
   "cell_type": "code",
   "execution_count": 11,
   "metadata": {},
   "outputs": [
    {
     "data": {
      "text/html": [
       "<div>\n",
       "<style scoped>\n",
       "    .dataframe tbody tr th:only-of-type {\n",
       "        vertical-align: middle;\n",
       "    }\n",
       "\n",
       "    .dataframe tbody tr th {\n",
       "        vertical-align: top;\n",
       "    }\n",
       "\n",
       "    .dataframe thead th {\n",
       "        text-align: right;\n",
       "    }\n",
       "</style>\n",
       "<table border=\"1\" class=\"dataframe\">\n",
       "  <thead>\n",
       "    <tr style=\"text-align: right;\">\n",
       "      <th></th>\n",
       "      <th>Date</th>\n",
       "      <th>Num_cases</th>\n",
       "      <th>Num_deaths</th>\n",
       "    </tr>\n",
       "  </thead>\n",
       "  <tbody>\n",
       "    <tr>\n",
       "      <th>0</th>\n",
       "      <td>2020-01-01</td>\n",
       "      <td>0</td>\n",
       "      <td>0</td>\n",
       "    </tr>\n",
       "    <tr>\n",
       "      <th>1</th>\n",
       "      <td>2020-02-01</td>\n",
       "      <td>0</td>\n",
       "      <td>0</td>\n",
       "    </tr>\n",
       "    <tr>\n",
       "      <th>2</th>\n",
       "      <td>2020-03-01</td>\n",
       "      <td>855</td>\n",
       "      <td>40</td>\n",
       "    </tr>\n",
       "    <tr>\n",
       "      <th>3</th>\n",
       "      <td>2020-04-01</td>\n",
       "      <td>4701</td>\n",
       "      <td>582</td>\n",
       "    </tr>\n",
       "    <tr>\n",
       "      <th>4</th>\n",
       "      <td>2020-05-01</td>\n",
       "      <td>1286</td>\n",
       "      <td>224</td>\n",
       "    </tr>\n",
       "    <tr>\n",
       "      <th>5</th>\n",
       "      <td>2020-06-01</td>\n",
       "      <td>517</td>\n",
       "      <td>70</td>\n",
       "    </tr>\n",
       "    <tr>\n",
       "      <th>6</th>\n",
       "      <td>2020-07-01</td>\n",
       "      <td>2089</td>\n",
       "      <td>20</td>\n",
       "    </tr>\n",
       "    <tr>\n",
       "      <th>7</th>\n",
       "      <td>2020-08-01</td>\n",
       "      <td>3332</td>\n",
       "      <td>32</td>\n",
       "    </tr>\n",
       "    <tr>\n",
       "      <th>8</th>\n",
       "      <td>2020-09-01</td>\n",
       "      <td>2039</td>\n",
       "      <td>56</td>\n",
       "    </tr>\n",
       "    <tr>\n",
       "      <th>9</th>\n",
       "      <td>2020-10-01</td>\n",
       "      <td>4911</td>\n",
       "      <td>74</td>\n",
       "    </tr>\n",
       "    <tr>\n",
       "      <th>10</th>\n",
       "      <td>2020-11-01</td>\n",
       "      <td>17976</td>\n",
       "      <td>180</td>\n",
       "    </tr>\n",
       "    <tr>\n",
       "      <th>11</th>\n",
       "      <td>2020-12-01</td>\n",
       "      <td>11767</td>\n",
       "      <td>323</td>\n",
       "    </tr>\n",
       "    <tr>\n",
       "      <th>12</th>\n",
       "      <td>2021-01-01</td>\n",
       "      <td>6379</td>\n",
       "      <td>259</td>\n",
       "    </tr>\n",
       "    <tr>\n",
       "      <th>13</th>\n",
       "      <td>2021-02-01</td>\n",
       "      <td>3083</td>\n",
       "      <td>107</td>\n",
       "    </tr>\n",
       "    <tr>\n",
       "      <th>14</th>\n",
       "      <td>2021-03-01</td>\n",
       "      <td>13643</td>\n",
       "      <td>58</td>\n",
       "    </tr>\n",
       "    <tr>\n",
       "      <th>15</th>\n",
       "      <td>2021-04-01</td>\n",
       "      <td>22003</td>\n",
       "      <td>203</td>\n",
       "    </tr>\n",
       "    <tr>\n",
       "      <th>16</th>\n",
       "      <td>2021-05-01</td>\n",
       "      <td>5017</td>\n",
       "      <td>194</td>\n",
       "    </tr>\n",
       "    <tr>\n",
       "      <th>17</th>\n",
       "      <td>2021-06-01</td>\n",
       "      <td>618</td>\n",
       "      <td>70</td>\n",
       "    </tr>\n",
       "    <tr>\n",
       "      <th>18</th>\n",
       "      <td>2021-07-01</td>\n",
       "      <td>1007</td>\n",
       "      <td>14</td>\n",
       "    </tr>\n",
       "    <tr>\n",
       "      <th>19</th>\n",
       "      <td>2021-08-01</td>\n",
       "      <td>4141</td>\n",
       "      <td>29</td>\n",
       "    </tr>\n",
       "    <tr>\n",
       "      <th>20</th>\n",
       "      <td>2021-09-01</td>\n",
       "      <td>6989</td>\n",
       "      <td>63</td>\n",
       "    </tr>\n",
       "    <tr>\n",
       "      <th>21</th>\n",
       "      <td>2021-10-01</td>\n",
       "      <td>9900</td>\n",
       "      <td>101</td>\n",
       "    </tr>\n",
       "    <tr>\n",
       "      <th>22</th>\n",
       "      <td>2021-11-01</td>\n",
       "      <td>17917</td>\n",
       "      <td>156</td>\n",
       "    </tr>\n",
       "    <tr>\n",
       "      <th>23</th>\n",
       "      <td>2021-12-01</td>\n",
       "      <td>25401</td>\n",
       "      <td>360</td>\n",
       "    </tr>\n",
       "    <tr>\n",
       "      <th>24</th>\n",
       "      <td>2022-01-01</td>\n",
       "      <td>50986</td>\n",
       "      <td>344</td>\n",
       "    </tr>\n",
       "    <tr>\n",
       "      <th>25</th>\n",
       "      <td>2022-02-01</td>\n",
       "      <td>8112</td>\n",
       "      <td>246</td>\n",
       "    </tr>\n",
       "    <tr>\n",
       "      <th>26</th>\n",
       "      <td>2022-03-01</td>\n",
       "      <td>4012</td>\n",
       "      <td>120</td>\n",
       "    </tr>\n",
       "    <tr>\n",
       "      <th>27</th>\n",
       "      <td>2022-04-01</td>\n",
       "      <td>4772</td>\n",
       "      <td>31</td>\n",
       "    </tr>\n",
       "    <tr>\n",
       "      <th>28</th>\n",
       "      <td>2022-05-01</td>\n",
       "      <td>10758</td>\n",
       "      <td>30</td>\n",
       "    </tr>\n",
       "    <tr>\n",
       "      <th>29</th>\n",
       "      <td>2022-06-01</td>\n",
       "      <td>7582</td>\n",
       "      <td>69</td>\n",
       "    </tr>\n",
       "    <tr>\n",
       "      <th>30</th>\n",
       "      <td>2022-07-01</td>\n",
       "      <td>6867</td>\n",
       "      <td>50</td>\n",
       "    </tr>\n",
       "    <tr>\n",
       "      <th>31</th>\n",
       "      <td>2022-08-01</td>\n",
       "      <td>9860</td>\n",
       "      <td>50</td>\n",
       "    </tr>\n",
       "    <tr>\n",
       "      <th>32</th>\n",
       "      <td>2022-09-01</td>\n",
       "      <td>6560</td>\n",
       "      <td>62</td>\n",
       "    </tr>\n",
       "    <tr>\n",
       "      <th>33</th>\n",
       "      <td>2022-10-01</td>\n",
       "      <td>5928</td>\n",
       "      <td>64</td>\n",
       "    </tr>\n",
       "  </tbody>\n",
       "</table>\n",
       "</div>"
      ],
      "text/plain": [
       "         Date  Num_cases  Num_deaths\n",
       "0  2020-01-01          0           0\n",
       "1  2020-02-01          0           0\n",
       "2  2020-03-01        855          40\n",
       "3  2020-04-01       4701         582\n",
       "4  2020-05-01       1286         224\n",
       "5  2020-06-01        517          70\n",
       "6  2020-07-01       2089          20\n",
       "7  2020-08-01       3332          32\n",
       "8  2020-09-01       2039          56\n",
       "9  2020-10-01       4911          74\n",
       "10 2020-11-01      17976         180\n",
       "11 2020-12-01      11767         323\n",
       "12 2021-01-01       6379         259\n",
       "13 2021-02-01       3083         107\n",
       "14 2021-03-01      13643          58\n",
       "15 2021-04-01      22003         203\n",
       "16 2021-05-01       5017         194\n",
       "17 2021-06-01        618          70\n",
       "18 2021-07-01       1007          14\n",
       "19 2021-08-01       4141          29\n",
       "20 2021-09-01       6989          63\n",
       "21 2021-10-01       9900         101\n",
       "22 2021-11-01      17917         156\n",
       "23 2021-12-01      25401         360\n",
       "24 2022-01-01      50986         344\n",
       "25 2022-02-01       8112         246\n",
       "26 2022-03-01       4012         120\n",
       "27 2022-04-01       4772          31\n",
       "28 2022-05-01      10758          30\n",
       "29 2022-06-01       7582          69\n",
       "30 2022-07-01       6867          50\n",
       "31 2022-08-01       9860          50\n",
       "32 2022-09-01       6560          62\n",
       "33 2022-10-01       5928          64"
      ]
     },
     "execution_count": 11,
     "metadata": {},
     "output_type": "execute_result"
    }
   ],
   "source": [
    "cases_df = pd.DataFrame(cases_gb).reset_index()\n",
    "cases_df['Date'] = pd.to_datetime(cases_df['Date'].dt.strftime('%Y-%m'))\n",
    "cases_df"
   ]
  },
  {
   "cell_type": "markdown",
   "metadata": {},
   "source": [
    "We can see that the dataframe dosage has the fewest data points, hence we need to filter unemployment and cases dataframes by the date range of dosage which is [2020-12-01: 2022-11-01]."
   ]
  },
  {
   "cell_type": "code",
   "execution_count": 12,
   "metadata": {},
   "outputs": [
    {
     "data": {
      "text/plain": [
       "Date          datetime64[ns]\n",
       "Num_cases              int64\n",
       "Num_deaths             int64\n",
       "dtype: object"
      ]
     },
     "execution_count": 12,
     "metadata": {},
     "output_type": "execute_result"
    }
   ],
   "source": [
    "cases_df.dtypes"
   ]
  },
  {
   "cell_type": "code",
   "execution_count": 13,
   "metadata": {},
   "outputs": [
    {
     "name": "stdout",
     "output_type": "stream",
     "text": [
      "Minimum timestamp datapoint: 2020-12-01 00:00:00\n",
      "Maximum timestamp datapoint: 2022-10-01 00:00:00\n"
     ]
    }
   ],
   "source": [
    "# Filter month of unemployment and cases\n",
    "cases_df = cases_df[cases_df['Date'] >= pd.to_datetime('2020-12-01', format = '%Y-%m-%d')]\n",
    "print('Minimum timestamp datapoint for number of cases:', min(cases_df['Date']))\n",
    "print('Maximum timestamp datapoint for number of cases:', max(cases_df['Date']))\n",
    "\n",
    "unemployment = unemployment[unemployment['Date'] >= pd.to_datetime('2020-12-01')]\n",
    "print('Minimum timestamp datapoint for unemployment data:', min(unemployment['Date']))\n",
    "print('Maximum timestamp datapoint for unemployment data:', max(unemployment['Date']))\n",
    "\n",
    "dose_df = dose_df[dose_df['Date'] <= pd.to_datetime('2022-10-01')]\n",
    "print('Minimum timestamp datapoint for vaccination data:', min(dose_df['Date']))\n",
    "print('Maximum timestamp datapoint for vaccination data:', max(dose_df['Date']))"
   ]
  },
  {
   "cell_type": "code",
   "execution_count": 15,
   "metadata": {},
   "outputs": [
    {
     "name": "stdout",
     "output_type": "stream",
     "text": [
      "Length of dosage:  23\n",
      "Length of cases:  23\n",
      "Length of unemployment:  23\n"
     ]
    }
   ],
   "source": [
    "print('Length of dosage: ',len(dose_df))\n",
    "print('Length of cases: ',len(cases_df))\n",
    "print('Length of unemployment: ',len(unemployment))"
   ]
  },
  {
   "cell_type": "markdown",
   "metadata": {},
   "source": [
    "Now we can see that all three time series have equal length and time range. For the next step, we will set Date as the index in order for us to plot the line charts."
   ]
  },
  {
   "cell_type": "code",
   "execution_count": 16,
   "metadata": {},
   "outputs": [
    {
     "data": {
      "text/html": [
       "<div>\n",
       "<style scoped>\n",
       "    .dataframe tbody tr th:only-of-type {\n",
       "        vertical-align: middle;\n",
       "    }\n",
       "\n",
       "    .dataframe tbody tr th {\n",
       "        vertical-align: top;\n",
       "    }\n",
       "\n",
       "    .dataframe thead th {\n",
       "        text-align: right;\n",
       "    }\n",
       "</style>\n",
       "<table border=\"1\" class=\"dataframe\">\n",
       "  <thead>\n",
       "    <tr style=\"text-align: right;\">\n",
       "      <th>Dose Number</th>\n",
       "      <th>First Dose</th>\n",
       "      <th>Second Dose</th>\n",
       "      <th>Third Dose</th>\n",
       "    </tr>\n",
       "    <tr>\n",
       "      <th>Date</th>\n",
       "      <th></th>\n",
       "      <th></th>\n",
       "      <th></th>\n",
       "    </tr>\n",
       "  </thead>\n",
       "  <tbody>\n",
       "    <tr>\n",
       "      <th>2020-12-01</th>\n",
       "      <td>8919.0</td>\n",
       "      <td>26.0</td>\n",
       "      <td>NaN</td>\n",
       "    </tr>\n",
       "    <tr>\n",
       "      <th>2021-01-01</th>\n",
       "      <td>48074.0</td>\n",
       "      <td>16525.0</td>\n",
       "      <td>NaN</td>\n",
       "    </tr>\n",
       "    <tr>\n",
       "      <th>2021-02-01</th>\n",
       "      <td>57220.0</td>\n",
       "      <td>50186.0</td>\n",
       "      <td>NaN</td>\n",
       "    </tr>\n",
       "    <tr>\n",
       "      <th>2021-03-01</th>\n",
       "      <td>107777.0</td>\n",
       "      <td>68753.0</td>\n",
       "      <td>NaN</td>\n",
       "    </tr>\n",
       "    <tr>\n",
       "      <th>2021-04-01</th>\n",
       "      <td>129544.0</td>\n",
       "      <td>104562.0</td>\n",
       "      <td>NaN</td>\n",
       "    </tr>\n",
       "    <tr>\n",
       "      <th>2021-05-01</th>\n",
       "      <td>46902.0</td>\n",
       "      <td>88315.0</td>\n",
       "      <td>NaN</td>\n",
       "    </tr>\n",
       "    <tr>\n",
       "      <th>2021-06-01</th>\n",
       "      <td>17859.0</td>\n",
       "      <td>36797.0</td>\n",
       "      <td>NaN</td>\n",
       "    </tr>\n",
       "    <tr>\n",
       "      <th>2021-07-01</th>\n",
       "      <td>14552.0</td>\n",
       "      <td>12794.0</td>\n",
       "      <td>NaN</td>\n",
       "    </tr>\n",
       "    <tr>\n",
       "      <th>2021-08-01</th>\n",
       "      <td>19800.0</td>\n",
       "      <td>15268.0</td>\n",
       "      <td>NaN</td>\n",
       "    </tr>\n",
       "    <tr>\n",
       "      <th>2021-09-01</th>\n",
       "      <td>12503.0</td>\n",
       "      <td>14903.0</td>\n",
       "      <td>NaN</td>\n",
       "    </tr>\n",
       "    <tr>\n",
       "      <th>2021-10-01</th>\n",
       "      <td>9445.0</td>\n",
       "      <td>10409.0</td>\n",
       "      <td>NaN</td>\n",
       "    </tr>\n",
       "    <tr>\n",
       "      <th>2021-11-01</th>\n",
       "      <td>17535.0</td>\n",
       "      <td>8699.0</td>\n",
       "      <td>NaN</td>\n",
       "    </tr>\n",
       "    <tr>\n",
       "      <th>2021-12-01</th>\n",
       "      <td>16281.0</td>\n",
       "      <td>14911.0</td>\n",
       "      <td>NaN</td>\n",
       "    </tr>\n",
       "    <tr>\n",
       "      <th>2022-01-01</th>\n",
       "      <td>11057.0</td>\n",
       "      <td>11246.0</td>\n",
       "      <td>NaN</td>\n",
       "    </tr>\n",
       "    <tr>\n",
       "      <th>2022-02-01</th>\n",
       "      <td>3212.0</td>\n",
       "      <td>5787.0</td>\n",
       "      <td>NaN</td>\n",
       "    </tr>\n",
       "    <tr>\n",
       "      <th>2022-03-01</th>\n",
       "      <td>1916.0</td>\n",
       "      <td>2577.0</td>\n",
       "      <td>NaN</td>\n",
       "    </tr>\n",
       "    <tr>\n",
       "      <th>2022-04-01</th>\n",
       "      <td>1631.0</td>\n",
       "      <td>1951.0</td>\n",
       "      <td>NaN</td>\n",
       "    </tr>\n",
       "    <tr>\n",
       "      <th>2022-05-01</th>\n",
       "      <td>1603.0</td>\n",
       "      <td>1719.0</td>\n",
       "      <td>NaN</td>\n",
       "    </tr>\n",
       "    <tr>\n",
       "      <th>2022-06-01</th>\n",
       "      <td>1514.0</td>\n",
       "      <td>1339.0</td>\n",
       "      <td>NaN</td>\n",
       "    </tr>\n",
       "    <tr>\n",
       "      <th>2022-07-01</th>\n",
       "      <td>1923.0</td>\n",
       "      <td>1490.0</td>\n",
       "      <td>NaN</td>\n",
       "    </tr>\n",
       "    <tr>\n",
       "      <th>2022-08-01</th>\n",
       "      <td>1832.0</td>\n",
       "      <td>1665.0</td>\n",
       "      <td>NaN</td>\n",
       "    </tr>\n",
       "    <tr>\n",
       "      <th>2022-09-01</th>\n",
       "      <td>891.0</td>\n",
       "      <td>1039.0</td>\n",
       "      <td>240.0</td>\n",
       "    </tr>\n",
       "    <tr>\n",
       "      <th>2022-10-01</th>\n",
       "      <td>648.0</td>\n",
       "      <td>619.0</td>\n",
       "      <td>211.0</td>\n",
       "    </tr>\n",
       "  </tbody>\n",
       "</table>\n",
       "</div>"
      ],
      "text/plain": [
       "Dose Number  First Dose  Second Dose  Third Dose\n",
       "Date                                            \n",
       "2020-12-01       8919.0         26.0         NaN\n",
       "2021-01-01      48074.0      16525.0         NaN\n",
       "2021-02-01      57220.0      50186.0         NaN\n",
       "2021-03-01     107777.0      68753.0         NaN\n",
       "2021-04-01     129544.0     104562.0         NaN\n",
       "2021-05-01      46902.0      88315.0         NaN\n",
       "2021-06-01      17859.0      36797.0         NaN\n",
       "2021-07-01      14552.0      12794.0         NaN\n",
       "2021-08-01      19800.0      15268.0         NaN\n",
       "2021-09-01      12503.0      14903.0         NaN\n",
       "2021-10-01       9445.0      10409.0         NaN\n",
       "2021-11-01      17535.0       8699.0         NaN\n",
       "2021-12-01      16281.0      14911.0         NaN\n",
       "2022-01-01      11057.0      11246.0         NaN\n",
       "2022-02-01       3212.0       5787.0         NaN\n",
       "2022-03-01       1916.0       2577.0         NaN\n",
       "2022-04-01       1631.0       1951.0         NaN\n",
       "2022-05-01       1603.0       1719.0         NaN\n",
       "2022-06-01       1514.0       1339.0         NaN\n",
       "2022-07-01       1923.0       1490.0         NaN\n",
       "2022-08-01       1832.0       1665.0         NaN\n",
       "2022-09-01        891.0       1039.0       240.0\n",
       "2022-10-01        648.0        619.0       211.0"
      ]
     },
     "execution_count": 16,
     "metadata": {},
     "output_type": "execute_result"
    }
   ],
   "source": [
    "dose_df.set_index('Date',drop=True, inplace = True)\n",
    "dose_df.columns = dose_df.columns.get_level_values(1)\n",
    "dose_df"
   ]
  },
  {
   "cell_type": "code",
   "execution_count": 17,
   "metadata": {},
   "outputs": [
    {
     "data": {
      "text/html": [
       "<div>\n",
       "<style scoped>\n",
       "    .dataframe tbody tr th:only-of-type {\n",
       "        vertical-align: middle;\n",
       "    }\n",
       "\n",
       "    .dataframe tbody tr th {\n",
       "        vertical-align: top;\n",
       "    }\n",
       "\n",
       "    .dataframe thead th {\n",
       "        text-align: right;\n",
       "    }\n",
       "</style>\n",
       "<table border=\"1\" class=\"dataframe\">\n",
       "  <thead>\n",
       "    <tr style=\"text-align: right;\">\n",
       "      <th></th>\n",
       "      <th>Date</th>\n",
       "      <th>Num_cases</th>\n",
       "      <th>Num_deaths</th>\n",
       "    </tr>\n",
       "  </thead>\n",
       "  <tbody>\n",
       "    <tr>\n",
       "      <th>11</th>\n",
       "      <td>2020-12-01</td>\n",
       "      <td>11767</td>\n",
       "      <td>323</td>\n",
       "    </tr>\n",
       "    <tr>\n",
       "      <th>12</th>\n",
       "      <td>2021-01-01</td>\n",
       "      <td>6379</td>\n",
       "      <td>259</td>\n",
       "    </tr>\n",
       "    <tr>\n",
       "      <th>13</th>\n",
       "      <td>2021-02-01</td>\n",
       "      <td>3083</td>\n",
       "      <td>107</td>\n",
       "    </tr>\n",
       "    <tr>\n",
       "      <th>14</th>\n",
       "      <td>2021-03-01</td>\n",
       "      <td>13643</td>\n",
       "      <td>58</td>\n",
       "    </tr>\n",
       "    <tr>\n",
       "      <th>15</th>\n",
       "      <td>2021-04-01</td>\n",
       "      <td>22003</td>\n",
       "      <td>203</td>\n",
       "    </tr>\n",
       "    <tr>\n",
       "      <th>16</th>\n",
       "      <td>2021-05-01</td>\n",
       "      <td>5017</td>\n",
       "      <td>194</td>\n",
       "    </tr>\n",
       "    <tr>\n",
       "      <th>17</th>\n",
       "      <td>2021-06-01</td>\n",
       "      <td>618</td>\n",
       "      <td>70</td>\n",
       "    </tr>\n",
       "    <tr>\n",
       "      <th>18</th>\n",
       "      <td>2021-07-01</td>\n",
       "      <td>1007</td>\n",
       "      <td>14</td>\n",
       "    </tr>\n",
       "    <tr>\n",
       "      <th>19</th>\n",
       "      <td>2021-08-01</td>\n",
       "      <td>4141</td>\n",
       "      <td>29</td>\n",
       "    </tr>\n",
       "    <tr>\n",
       "      <th>20</th>\n",
       "      <td>2021-09-01</td>\n",
       "      <td>6989</td>\n",
       "      <td>63</td>\n",
       "    </tr>\n",
       "    <tr>\n",
       "      <th>21</th>\n",
       "      <td>2021-10-01</td>\n",
       "      <td>9900</td>\n",
       "      <td>101</td>\n",
       "    </tr>\n",
       "    <tr>\n",
       "      <th>22</th>\n",
       "      <td>2021-11-01</td>\n",
       "      <td>17917</td>\n",
       "      <td>156</td>\n",
       "    </tr>\n",
       "    <tr>\n",
       "      <th>23</th>\n",
       "      <td>2021-12-01</td>\n",
       "      <td>25401</td>\n",
       "      <td>360</td>\n",
       "    </tr>\n",
       "    <tr>\n",
       "      <th>24</th>\n",
       "      <td>2022-01-01</td>\n",
       "      <td>50986</td>\n",
       "      <td>344</td>\n",
       "    </tr>\n",
       "    <tr>\n",
       "      <th>25</th>\n",
       "      <td>2022-02-01</td>\n",
       "      <td>8112</td>\n",
       "      <td>246</td>\n",
       "    </tr>\n",
       "    <tr>\n",
       "      <th>26</th>\n",
       "      <td>2022-03-01</td>\n",
       "      <td>4012</td>\n",
       "      <td>120</td>\n",
       "    </tr>\n",
       "    <tr>\n",
       "      <th>27</th>\n",
       "      <td>2022-04-01</td>\n",
       "      <td>4772</td>\n",
       "      <td>31</td>\n",
       "    </tr>\n",
       "    <tr>\n",
       "      <th>28</th>\n",
       "      <td>2022-05-01</td>\n",
       "      <td>10758</td>\n",
       "      <td>30</td>\n",
       "    </tr>\n",
       "    <tr>\n",
       "      <th>29</th>\n",
       "      <td>2022-06-01</td>\n",
       "      <td>7582</td>\n",
       "      <td>69</td>\n",
       "    </tr>\n",
       "    <tr>\n",
       "      <th>30</th>\n",
       "      <td>2022-07-01</td>\n",
       "      <td>6867</td>\n",
       "      <td>50</td>\n",
       "    </tr>\n",
       "    <tr>\n",
       "      <th>31</th>\n",
       "      <td>2022-08-01</td>\n",
       "      <td>9860</td>\n",
       "      <td>50</td>\n",
       "    </tr>\n",
       "    <tr>\n",
       "      <th>32</th>\n",
       "      <td>2022-09-01</td>\n",
       "      <td>6560</td>\n",
       "      <td>62</td>\n",
       "    </tr>\n",
       "    <tr>\n",
       "      <th>33</th>\n",
       "      <td>2022-10-01</td>\n",
       "      <td>5928</td>\n",
       "      <td>64</td>\n",
       "    </tr>\n",
       "  </tbody>\n",
       "</table>\n",
       "</div>"
      ],
      "text/plain": [
       "         Date  Num_cases  Num_deaths\n",
       "11 2020-12-01      11767         323\n",
       "12 2021-01-01       6379         259\n",
       "13 2021-02-01       3083         107\n",
       "14 2021-03-01      13643          58\n",
       "15 2021-04-01      22003         203\n",
       "16 2021-05-01       5017         194\n",
       "17 2021-06-01        618          70\n",
       "18 2021-07-01       1007          14\n",
       "19 2021-08-01       4141          29\n",
       "20 2021-09-01       6989          63\n",
       "21 2021-10-01       9900         101\n",
       "22 2021-11-01      17917         156\n",
       "23 2021-12-01      25401         360\n",
       "24 2022-01-01      50986         344\n",
       "25 2022-02-01       8112         246\n",
       "26 2022-03-01       4012         120\n",
       "27 2022-04-01       4772          31\n",
       "28 2022-05-01      10758          30\n",
       "29 2022-06-01       7582          69\n",
       "30 2022-07-01       6867          50\n",
       "31 2022-08-01       9860          50\n",
       "32 2022-09-01       6560          62\n",
       "33 2022-10-01       5928          64"
      ]
     },
     "execution_count": 17,
     "metadata": {},
     "output_type": "execute_result"
    }
   ],
   "source": [
    "#cases_df.set_index('Date',drop=True, inplace = True)\n",
    "cases_df.columns = cases_df.columns.get_level_values(0)\n",
    "cases_df"
   ]
  },
  {
   "cell_type": "code",
   "execution_count": 18,
   "metadata": {},
   "outputs": [
    {
     "data": {
      "text/html": [
       "<div>\n",
       "<style scoped>\n",
       "    .dataframe tbody tr th:only-of-type {\n",
       "        vertical-align: middle;\n",
       "    }\n",
       "\n",
       "    .dataframe tbody tr th {\n",
       "        vertical-align: top;\n",
       "    }\n",
       "\n",
       "    .dataframe thead th {\n",
       "        text-align: right;\n",
       "    }\n",
       "</style>\n",
       "<table border=\"1\" class=\"dataframe\">\n",
       "  <thead>\n",
       "    <tr style=\"text-align: right;\">\n",
       "      <th></th>\n",
       "      <th>Unemployment Rate</th>\n",
       "    </tr>\n",
       "    <tr>\n",
       "      <th>Date</th>\n",
       "      <th></th>\n",
       "    </tr>\n",
       "  </thead>\n",
       "  <tbody>\n",
       "    <tr>\n",
       "      <th>2020-12-01</th>\n",
       "      <td>7.6</td>\n",
       "    </tr>\n",
       "    <tr>\n",
       "      <th>2021-01-01</th>\n",
       "      <td>7.0</td>\n",
       "    </tr>\n",
       "    <tr>\n",
       "      <th>2021-02-01</th>\n",
       "      <td>6.6</td>\n",
       "    </tr>\n",
       "    <tr>\n",
       "      <th>2021-03-01</th>\n",
       "      <td>6.6</td>\n",
       "    </tr>\n",
       "    <tr>\n",
       "      <th>2021-04-01</th>\n",
       "      <td>6.0</td>\n",
       "    </tr>\n",
       "    <tr>\n",
       "      <th>2021-05-01</th>\n",
       "      <td>6.3</td>\n",
       "    </tr>\n",
       "    <tr>\n",
       "      <th>2021-06-01</th>\n",
       "      <td>6.8</td>\n",
       "    </tr>\n",
       "    <tr>\n",
       "      <th>2021-07-01</th>\n",
       "      <td>7.3</td>\n",
       "    </tr>\n",
       "    <tr>\n",
       "      <th>2021-08-01</th>\n",
       "      <td>6.4</td>\n",
       "    </tr>\n",
       "    <tr>\n",
       "      <th>2021-09-01</th>\n",
       "      <td>5.4</td>\n",
       "    </tr>\n",
       "    <tr>\n",
       "      <th>2021-10-01</th>\n",
       "      <td>4.8</td>\n",
       "    </tr>\n",
       "    <tr>\n",
       "      <th>2021-11-01</th>\n",
       "      <td>4.0</td>\n",
       "    </tr>\n",
       "    <tr>\n",
       "      <th>2021-12-01</th>\n",
       "      <td>4.0</td>\n",
       "    </tr>\n",
       "    <tr>\n",
       "      <th>2022-01-01</th>\n",
       "      <td>4.9</td>\n",
       "    </tr>\n",
       "    <tr>\n",
       "      <th>2022-02-01</th>\n",
       "      <td>5.0</td>\n",
       "    </tr>\n",
       "    <tr>\n",
       "      <th>2022-03-01</th>\n",
       "      <td>4.4</td>\n",
       "    </tr>\n",
       "    <tr>\n",
       "      <th>2022-04-01</th>\n",
       "      <td>4.1</td>\n",
       "    </tr>\n",
       "    <tr>\n",
       "      <th>2022-05-01</th>\n",
       "      <td>4.7</td>\n",
       "    </tr>\n",
       "    <tr>\n",
       "      <th>2022-06-01</th>\n",
       "      <td>4.3</td>\n",
       "    </tr>\n",
       "    <tr>\n",
       "      <th>2022-07-01</th>\n",
       "      <td>3.2</td>\n",
       "    </tr>\n",
       "    <tr>\n",
       "      <th>2022-08-01</th>\n",
       "      <td>3.3</td>\n",
       "    </tr>\n",
       "    <tr>\n",
       "      <th>2022-09-01</th>\n",
       "      <td>3.4</td>\n",
       "    </tr>\n",
       "    <tr>\n",
       "      <th>2022-10-01</th>\n",
       "      <td>3.2</td>\n",
       "    </tr>\n",
       "  </tbody>\n",
       "</table>\n",
       "</div>"
      ],
      "text/plain": [
       "            Unemployment Rate\n",
       "Date                         \n",
       "2020-12-01                7.6\n",
       "2021-01-01                7.0\n",
       "2021-02-01                6.6\n",
       "2021-03-01                6.6\n",
       "2021-04-01                6.0\n",
       "2021-05-01                6.3\n",
       "2021-06-01                6.8\n",
       "2021-07-01                7.3\n",
       "2021-08-01                6.4\n",
       "2021-09-01                5.4\n",
       "2021-10-01                4.8\n",
       "2021-11-01                4.0\n",
       "2021-12-01                4.0\n",
       "2022-01-01                4.9\n",
       "2022-02-01                5.0\n",
       "2022-03-01                4.4\n",
       "2022-04-01                4.1\n",
       "2022-05-01                4.7\n",
       "2022-06-01                4.3\n",
       "2022-07-01                3.2\n",
       "2022-08-01                3.3\n",
       "2022-09-01                3.4\n",
       "2022-10-01                3.2"
      ]
     },
     "execution_count": 18,
     "metadata": {},
     "output_type": "execute_result"
    }
   ],
   "source": [
    "unemployment.set_index('Date',drop=True, inplace = True)\n",
    "unemployment"
   ]
  },
  {
   "cell_type": "markdown",
   "metadata": {},
   "source": [
    "### Data Exploration and Visualisations"
   ]
  },
  {
   "cell_type": "markdown",
   "metadata": {},
   "source": [
    "Each time series will be plotted as part of the visualisation procedure to observe any trends available. The blue vertical line on each chart represents the end of mask mandate in Macomb County on June 21, 2021. Macomb County has implemented mask mandate from April 26 2020 to June 21 2021. This fact is being retrieved from the first part of this analysis which reader can refer to [Part 1 of the research project](https://github.com/Kirsteenng/Human-Centered-Design/blob/main/data-512-homework_4/US%20COVID%20Analysis.ipynb)."
   ]
  },
  {
   "cell_type": "code",
   "execution_count": 19,
   "metadata": {},
   "outputs": [
    {
     "data": {
      "text/plain": [
       "Text(0, 0.5, 'Unemployment Rate(%)')"
      ]
     },
     "execution_count": 19,
     "metadata": {},
     "output_type": "execute_result"
    },
    {
     "data": {
      "image/png": "[encoded data removed]",
      "text/plain": [
       "<Figure size 1440x720 with 1 Axes>"
      ]
     },
     "metadata": {
      "needs_background": "light"
     },
     "output_type": "display_data"
    }
   ],
   "source": [
    "# Plotting monthly unemployment rate in Macomb County.\n",
    "plt.rcParams[\"figure.figsize\"] = (20,10)\n",
    "sns.lineplot(data = unemployment, palette=['r'])\n",
    "\n",
    "# This line represents the end of mask mandate.\n",
    "plt.axvline(x = pd.to_datetime('6/21/21'), color = 'b', label = 'End of Mask Mandate')\n",
    "plt.title('Monthly Unemployment Rate in Macomb County')\n",
    "plt.xlabel('Date') \n",
    "plt.ylabel('Unemployment Rate(%)') "
   ]
  },
  {
   "cell_type": "markdown",
   "metadata": {},
   "source": [
    "The chart above shows that the highest monthly unemployment rate was in December 2020 at 7.6%. It has been dropping from December 2020 to April 2021 and bounced back to another peak on July 2021. Note that the mask mandate ended in June 2021, which is indicated by the blue line. Since the peak in July 2021, the unemployment rate has fallen to pre-COVID levels around 5%."
   ]
  },
  {
   "cell_type": "code",
   "execution_count": 41,
   "metadata": {},
   "outputs": [
    {
     "data": {
      "image/png": "[encoded data removed]",
      "text/plain": [
       "<Figure size 1440x720 with 2 Axes>"
      ]
     },
     "metadata": {
      "needs_background": "light"
     },
     "output_type": "display_data"
    }
   ],
   "source": [
    "\n",
    "# Plotting aggregated monthly COVID-19 cases and deaths in Macomb County.\n",
    "plt.rcParams[\"figure.figsize\"] = (20,10)\n",
    "ax = cases_df.plot(x=\"Date\", y=\"Num_cases\", legend=False,color=\"g\")\n",
    "ax2 = ax.twinx()\n",
    "cases_df.plot(x=\"Date\", y=\"Num_deaths\", ax=ax2, legend=False, color=\"r\")\n",
    "ax.figure.legend()\n",
    "\n",
    "\n",
    "# This line represents the end of mask mandate.\n",
    "plt.axvline(x = pd.to_datetime('6/21/21'), color = 'b', label = 'End of Mask Mandate')\n",
    "plt.title('Aggregated Monthly COVID-19 cases and deaths in Macomb County')\n",
    "ax.set_ylabel('Number of Cases')\n",
    "ax2.set_ylabel('Number of Deaths')\n",
    "plt.show()"
   ]
  },
  {
   "cell_type": "markdown",
   "metadata": {},
   "source": [
    "We can see from the chart above that the number of cases and the number of death display similar patterns. There are two peaks in this time range for both datasets; the number of case peaked around April 2021 and again in Janurary 2022. At the same time, the number of COVID-19 related deaths peaked in December 2020 and again in December 2021."
   ]
  },
  {
   "cell_type": "code",
   "execution_count": 42,
   "metadata": {},
   "outputs": [
    {
     "data": {
      "text/plain": [
       "Text(0, 0.5, 'Amount of Vaccination')"
      ]
     },
     "execution_count": 42,
     "metadata": {},
     "output_type": "execute_result"
    },
    {
     "data": {
      "image/png": "[encoded data removed]",
      "text/plain": [
       "<Figure size 1440x720 with 1 Axes>"
      ]
     },
     "metadata": {
      "needs_background": "light"
     },
     "output_type": "display_data"
    }
   ],
   "source": [
    "# Plotting aggregated monthly vaccination count in Macomb County.\n",
    "plt.rcParams[\"figure.figsize\"] = (20,10)\n",
    "sns.lineplot(data = dose_df[['First Dose']], palette=['r'])\n",
    "\n",
    "# This line represents the end of mask mandate.\n",
    "plt.axvline(x = pd.to_datetime('6/21/21'), color = 'b', label = 'End of Mask Mandate')\n",
    "plt.title('Aggregated Monthly Vaccination Count in Macomb County')\n",
    "plt.xlabel('Date') \n",
    "plt.ylabel('Amount of Vaccination') "
   ]
  },
  {
   "cell_type": "markdown",
   "metadata": {},
   "source": [
    "### Data and Statistical Analysis"
   ]
  },
  {
   "cell_type": "code",
   "execution_count": 22,
   "metadata": {},
   "outputs": [
    {
     "data": {
      "text/html": [
       "<div>\n",
       "<style scoped>\n",
       "    .dataframe tbody tr th:only-of-type {\n",
       "        vertical-align: middle;\n",
       "    }\n",
       "\n",
       "    .dataframe tbody tr th {\n",
       "        vertical-align: top;\n",
       "    }\n",
       "\n",
       "    .dataframe thead th {\n",
       "        text-align: right;\n",
       "    }\n",
       "</style>\n",
       "<table border=\"1\" class=\"dataframe\">\n",
       "  <thead>\n",
       "    <tr style=\"text-align: right;\">\n",
       "      <th></th>\n",
       "      <th>Date</th>\n",
       "      <th>Num_cases</th>\n",
       "      <th>Num_deaths</th>\n",
       "      <th>Unemployment Rate</th>\n",
       "      <th>First Dose</th>\n",
       "      <th>Second Dose</th>\n",
       "      <th>Third Dose</th>\n",
       "    </tr>\n",
       "  </thead>\n",
       "  <tbody>\n",
       "    <tr>\n",
       "      <th>0</th>\n",
       "      <td>2020-12-01</td>\n",
       "      <td>11767</td>\n",
       "      <td>323</td>\n",
       "      <td>7.6</td>\n",
       "      <td>8919.0</td>\n",
       "      <td>26.0</td>\n",
       "      <td>NaN</td>\n",
       "    </tr>\n",
       "    <tr>\n",
       "      <th>1</th>\n",
       "      <td>2021-01-01</td>\n",
       "      <td>6379</td>\n",
       "      <td>259</td>\n",
       "      <td>7.0</td>\n",
       "      <td>48074.0</td>\n",
       "      <td>16525.0</td>\n",
       "      <td>NaN</td>\n",
       "    </tr>\n",
       "    <tr>\n",
       "      <th>2</th>\n",
       "      <td>2021-02-01</td>\n",
       "      <td>3083</td>\n",
       "      <td>107</td>\n",
       "      <td>6.6</td>\n",
       "      <td>57220.0</td>\n",
       "      <td>50186.0</td>\n",
       "      <td>NaN</td>\n",
       "    </tr>\n",
       "    <tr>\n",
       "      <th>3</th>\n",
       "      <td>2021-03-01</td>\n",
       "      <td>13643</td>\n",
       "      <td>58</td>\n",
       "      <td>6.6</td>\n",
       "      <td>107777.0</td>\n",
       "      <td>68753.0</td>\n",
       "      <td>NaN</td>\n",
       "    </tr>\n",
       "    <tr>\n",
       "      <th>4</th>\n",
       "      <td>2021-04-01</td>\n",
       "      <td>22003</td>\n",
       "      <td>203</td>\n",
       "      <td>6.0</td>\n",
       "      <td>129544.0</td>\n",
       "      <td>104562.0</td>\n",
       "      <td>NaN</td>\n",
       "    </tr>\n",
       "    <tr>\n",
       "      <th>5</th>\n",
       "      <td>2021-05-01</td>\n",
       "      <td>5017</td>\n",
       "      <td>194</td>\n",
       "      <td>6.3</td>\n",
       "      <td>46902.0</td>\n",
       "      <td>88315.0</td>\n",
       "      <td>NaN</td>\n",
       "    </tr>\n",
       "    <tr>\n",
       "      <th>6</th>\n",
       "      <td>2021-06-01</td>\n",
       "      <td>618</td>\n",
       "      <td>70</td>\n",
       "      <td>6.8</td>\n",
       "      <td>17859.0</td>\n",
       "      <td>36797.0</td>\n",
       "      <td>NaN</td>\n",
       "    </tr>\n",
       "    <tr>\n",
       "      <th>7</th>\n",
       "      <td>2021-07-01</td>\n",
       "      <td>1007</td>\n",
       "      <td>14</td>\n",
       "      <td>7.3</td>\n",
       "      <td>14552.0</td>\n",
       "      <td>12794.0</td>\n",
       "      <td>NaN</td>\n",
       "    </tr>\n",
       "    <tr>\n",
       "      <th>8</th>\n",
       "      <td>2021-08-01</td>\n",
       "      <td>4141</td>\n",
       "      <td>29</td>\n",
       "      <td>6.4</td>\n",
       "      <td>19800.0</td>\n",
       "      <td>15268.0</td>\n",
       "      <td>NaN</td>\n",
       "    </tr>\n",
       "    <tr>\n",
       "      <th>9</th>\n",
       "      <td>2021-09-01</td>\n",
       "      <td>6989</td>\n",
       "      <td>63</td>\n",
       "      <td>5.4</td>\n",
       "      <td>12503.0</td>\n",
       "      <td>14903.0</td>\n",
       "      <td>NaN</td>\n",
       "    </tr>\n",
       "    <tr>\n",
       "      <th>10</th>\n",
       "      <td>2021-10-01</td>\n",
       "      <td>9900</td>\n",
       "      <td>101</td>\n",
       "      <td>4.8</td>\n",
       "      <td>9445.0</td>\n",
       "      <td>10409.0</td>\n",
       "      <td>NaN</td>\n",
       "    </tr>\n",
       "    <tr>\n",
       "      <th>11</th>\n",
       "      <td>2021-11-01</td>\n",
       "      <td>17917</td>\n",
       "      <td>156</td>\n",
       "      <td>4.0</td>\n",
       "      <td>17535.0</td>\n",
       "      <td>8699.0</td>\n",
       "      <td>NaN</td>\n",
       "    </tr>\n",
       "    <tr>\n",
       "      <th>12</th>\n",
       "      <td>2021-12-01</td>\n",
       "      <td>25401</td>\n",
       "      <td>360</td>\n",
       "      <td>4.0</td>\n",
       "      <td>16281.0</td>\n",
       "      <td>14911.0</td>\n",
       "      <td>NaN</td>\n",
       "    </tr>\n",
       "    <tr>\n",
       "      <th>13</th>\n",
       "      <td>2022-01-01</td>\n",
       "      <td>50986</td>\n",
       "      <td>344</td>\n",
       "      <td>4.9</td>\n",
       "      <td>11057.0</td>\n",
       "      <td>11246.0</td>\n",
       "      <td>NaN</td>\n",
       "    </tr>\n",
       "    <tr>\n",
       "      <th>14</th>\n",
       "      <td>2022-02-01</td>\n",
       "      <td>8112</td>\n",
       "      <td>246</td>\n",
       "      <td>5.0</td>\n",
       "      <td>3212.0</td>\n",
       "      <td>5787.0</td>\n",
       "      <td>NaN</td>\n",
       "    </tr>\n",
       "    <tr>\n",
       "      <th>15</th>\n",
       "      <td>2022-03-01</td>\n",
       "      <td>4012</td>\n",
       "      <td>120</td>\n",
       "      <td>4.4</td>\n",
       "      <td>1916.0</td>\n",
       "      <td>2577.0</td>\n",
       "      <td>NaN</td>\n",
       "    </tr>\n",
       "    <tr>\n",
       "      <th>16</th>\n",
       "      <td>2022-04-01</td>\n",
       "      <td>4772</td>\n",
       "      <td>31</td>\n",
       "      <td>4.1</td>\n",
       "      <td>1631.0</td>\n",
       "      <td>1951.0</td>\n",
       "      <td>NaN</td>\n",
       "    </tr>\n",
       "    <tr>\n",
       "      <th>17</th>\n",
       "      <td>2022-05-01</td>\n",
       "      <td>10758</td>\n",
       "      <td>30</td>\n",
       "      <td>4.7</td>\n",
       "      <td>1603.0</td>\n",
       "      <td>1719.0</td>\n",
       "      <td>NaN</td>\n",
       "    </tr>\n",
       "    <tr>\n",
       "      <th>18</th>\n",
       "      <td>2022-06-01</td>\n",
       "      <td>7582</td>\n",
       "      <td>69</td>\n",
       "      <td>4.3</td>\n",
       "      <td>1514.0</td>\n",
       "      <td>1339.0</td>\n",
       "      <td>NaN</td>\n",
       "    </tr>\n",
       "    <tr>\n",
       "      <th>19</th>\n",
       "      <td>2022-07-01</td>\n",
       "      <td>6867</td>\n",
       "      <td>50</td>\n",
       "      <td>3.2</td>\n",
       "      <td>1923.0</td>\n",
       "      <td>1490.0</td>\n",
       "      <td>NaN</td>\n",
       "    </tr>\n",
       "    <tr>\n",
       "      <th>20</th>\n",
       "      <td>2022-08-01</td>\n",
       "      <td>9860</td>\n",
       "      <td>50</td>\n",
       "      <td>3.3</td>\n",
       "      <td>1832.0</td>\n",
       "      <td>1665.0</td>\n",
       "      <td>NaN</td>\n",
       "    </tr>\n",
       "    <tr>\n",
       "      <th>21</th>\n",
       "      <td>2022-09-01</td>\n",
       "      <td>6560</td>\n",
       "      <td>62</td>\n",
       "      <td>3.4</td>\n",
       "      <td>891.0</td>\n",
       "      <td>1039.0</td>\n",
       "      <td>240.0</td>\n",
       "    </tr>\n",
       "    <tr>\n",
       "      <th>22</th>\n",
       "      <td>2022-10-01</td>\n",
       "      <td>5928</td>\n",
       "      <td>64</td>\n",
       "      <td>3.2</td>\n",
       "      <td>648.0</td>\n",
       "      <td>619.0</td>\n",
       "      <td>211.0</td>\n",
       "    </tr>\n",
       "  </tbody>\n",
       "</table>\n",
       "</div>"
      ],
      "text/plain": [
       "         Date  Num_cases  Num_deaths  Unemployment Rate  First Dose  \\\n",
       "0  2020-12-01      11767         323                7.6      8919.0   \n",
       "1  2021-01-01       6379         259                7.0     48074.0   \n",
       "2  2021-02-01       3083         107                6.6     57220.0   \n",
       "3  2021-03-01      13643          58                6.6    107777.0   \n",
       "4  2021-04-01      22003         203                6.0    129544.0   \n",
       "5  2021-05-01       5017         194                6.3     46902.0   \n",
       "6  2021-06-01        618          70                6.8     17859.0   \n",
       "7  2021-07-01       1007          14                7.3     14552.0   \n",
       "8  2021-08-01       4141          29                6.4     19800.0   \n",
       "9  2021-09-01       6989          63                5.4     12503.0   \n",
       "10 2021-10-01       9900         101                4.8      9445.0   \n",
       "11 2021-11-01      17917         156                4.0     17535.0   \n",
       "12 2021-12-01      25401         360                4.0     16281.0   \n",
       "13 2022-01-01      50986         344                4.9     11057.0   \n",
       "14 2022-02-01       8112         246                5.0      3212.0   \n",
       "15 2022-03-01       4012         120                4.4      1916.0   \n",
       "16 2022-04-01       4772          31                4.1      1631.0   \n",
       "17 2022-05-01      10758          30                4.7      1603.0   \n",
       "18 2022-06-01       7582          69                4.3      1514.0   \n",
       "19 2022-07-01       6867          50                3.2      1923.0   \n",
       "20 2022-08-01       9860          50                3.3      1832.0   \n",
       "21 2022-09-01       6560          62                3.4       891.0   \n",
       "22 2022-10-01       5928          64                3.2       648.0   \n",
       "\n",
       "    Second Dose  Third Dose  \n",
       "0          26.0         NaN  \n",
       "1       16525.0         NaN  \n",
       "2       50186.0         NaN  \n",
       "3       68753.0         NaN  \n",
       "4      104562.0         NaN  \n",
       "5       88315.0         NaN  \n",
       "6       36797.0         NaN  \n",
       "7       12794.0         NaN  \n",
       "8       15268.0         NaN  \n",
       "9       14903.0         NaN  \n",
       "10      10409.0         NaN  \n",
       "11       8699.0         NaN  \n",
       "12      14911.0         NaN  \n",
       "13      11246.0         NaN  \n",
       "14       5787.0         NaN  \n",
       "15       2577.0         NaN  \n",
       "16       1951.0         NaN  \n",
       "17       1719.0         NaN  \n",
       "18       1339.0         NaN  \n",
       "19       1490.0         NaN  \n",
       "20       1665.0         NaN  \n",
       "21       1039.0       240.0  \n",
       "22        619.0       211.0  "
      ]
     },
     "execution_count": 22,
     "metadata": {},
     "output_type": "execute_result"
    }
   ],
   "source": [
    "\n",
    "# Joining all four tables into one for easier analysis\n",
    "joined_table = cases_df.join(unemployment, on ='Date').join(dose_df, on = 'Date')\n",
    "joined_table.reset_index(inplace = True,drop = True)\n",
    "joined_table\n"
   ]
  },
  {
   "cell_type": "markdown",
   "metadata": {},
   "source": [
    "#TODO: plot num_cases, num_death, unemployment\n",
    "#TODO: plot num_cases, num_death, vaccination\n",
    "#TODO: plot vaccination, unemployment\n"
   ]
  },
  {
   "cell_type": "markdown",
   "metadata": {},
   "source": [
    "The first relationship that is being investigated in this research project is the number of cases and deaths. Because as shown by the chart above they demonstrate very similar patterns."
   ]
  },
  {
   "cell_type": "code",
   "execution_count": 55,
   "metadata": {},
   "outputs": [
    {
     "name": "stdout",
     "output_type": "stream",
     "text": [
      "\n",
      "Granger Causality\n",
      "number of lags (no zero) 1\n",
      "ssr based F test:         F=5.0856  , p=0.0361  , df_denom=19, df_num=1\n",
      "ssr based chi2 test:   chi2=5.8886  , p=0.0152  , df=1\n",
      "likelihood ratio test: chi2=5.2179  , p=0.0224  , df=1\n",
      "parameter F test:         F=5.0856  , p=0.0361  , df_denom=19, df_num=1\n"
     ]
    },
    {
     "data": {
      "text/plain": [
       "{1: ({'ssr_ftest': (5.085631418669653, 0.0361142270700555, 19.0, 1),\n",
       "   'ssr_chi2test': (5.888625853196441, 0.015238987118624245, 1),\n",
       "   'lrtest': (5.217882490349751, 0.022355757121663117, 1),\n",
       "   'params_ftest': (5.085631418669441, 0.03611422707005898, 19.0, 1.0)},\n",
       "  [<statsmodels.regression.linear_model.RegressionResultsWrapper at 0x7ff6b44fc130>,\n",
       "   <statsmodels.regression.linear_model.RegressionResultsWrapper at 0x7ff6a0464fd0>,\n",
       "   array([[0., 1., 0.]])])}"
      ]
     },
     "execution_count": 55,
     "metadata": {},
     "output_type": "execute_result"
    }
   ],
   "source": [
    "# Performing Granger-Causality test\n",
    "grangercausalitytests(joined_table[['Num_deaths','Num_cases']], maxlag=[1])"
   ]
  },
  {
   "cell_type": "markdown",
   "metadata": {},
   "source": [
    "A p-value of 0.0361 implies that the number of cases is a good predictor of number of deaths in Macomb County in this time range."
   ]
  },
  {
   "cell_type": "markdown",
   "metadata": {},
   "source": [
    "### Hypothesis 1: The number of cases and deaths are positively correlated to unemployment rate.\n",
    "We then proceed to perform Granger causality test between unemployment rate and the number of COVID-19 cases and COVID-19 deaths. The number of lag chosen is 4 because it is assumed that the effect of COVID-19 cases on damaging the economy is not immediate."
   ]
  },
  {
   "cell_type": "code",
   "execution_count": 45,
   "metadata": {},
   "outputs": [
    {
     "name": "stdout",
     "output_type": "stream",
     "text": [
      "\n",
      "Granger Causality\n",
      "number of lags (no zero) 4\n",
      "ssr based F test:         F=0.5996  , p=0.6715  , df_denom=10, df_num=4\n",
      "ssr based chi2 test:   chi2=4.5570  , p=0.3358  , df=4\n",
      "likelihood ratio test: chi2=4.0847  , p=0.3947  , df=4\n",
      "parameter F test:         F=0.5996  , p=0.6715  , df_denom=10, df_num=4\n"
     ]
    },
    {
     "data": {
      "text/plain": [
       "{4: ({'ssr_ftest': (0.5995998875894308, 0.6714676714555612, 10.0, 4),\n",
       "   'ssr_chi2test': (4.5569591456796745, 0.3358469251358548, 4),\n",
       "   'lrtest': (4.08466375257963, 0.39466909855488996, 4),\n",
       "   'params_ftest': (0.5995998875950035, 0.6714676714519999, 10.0, 4.0)},\n",
       "  [<statsmodels.regression.linear_model.RegressionResultsWrapper at 0x7ff6c15883a0>,\n",
       "   <statsmodels.regression.linear_model.RegressionResultsWrapper at 0x7ff6b4713910>,\n",
       "   array([[0., 0., 0., 0., 1., 0., 0., 0., 0.],\n",
       "          [0., 0., 0., 0., 0., 1., 0., 0., 0.],\n",
       "          [0., 0., 0., 0., 0., 0., 1., 0., 0.],\n",
       "          [0., 0., 0., 0., 0., 0., 0., 1., 0.]])])}"
      ]
     },
     "execution_count": 45,
     "metadata": {},
     "output_type": "execute_result"
    }
   ],
   "source": [
    "# Performing Granger-Causality test\n",
    "grangercausalitytests(joined_table[['Unemployment Rate', 'Num_cases']], maxlag=[4])"
   ]
  },
  {
   "cell_type": "code",
   "execution_count": 49,
   "metadata": {},
   "outputs": [
    {
     "name": "stdout",
     "output_type": "stream",
     "text": [
      "\n",
      "Granger Causality\n",
      "number of lags (no zero) 4\n",
      "ssr based F test:         F=0.6731  , p=0.6256  , df_denom=10, df_num=4\n",
      "ssr based chi2 test:   chi2=5.1157  , p=0.2756  , df=4\n",
      "likelihood ratio test: chi2=4.5301  , p=0.3390  , df=4\n",
      "parameter F test:         F=0.6731  , p=0.6256  , df_denom=10, df_num=4\n"
     ]
    },
    {
     "data": {
      "text/plain": [
       "{4: ({'ssr_ftest': (0.6731185094891394, 0.6255678709767161, 10.0, 4),\n",
       "   'ssr_chi2test': (5.115700672117459, 0.2756305734741018, 4),\n",
       "   'lrtest': (4.530058458218761, 0.3389981888751847, 4),\n",
       "   'params_ftest': (0.67311850948915, 0.6255678709767095, 10.0, 4.0)},\n",
       "  [<statsmodels.regression.linear_model.RegressionResultsWrapper at 0x7ff6c158f190>,\n",
       "   <statsmodels.regression.linear_model.RegressionResultsWrapper at 0x7ff6b465c070>,\n",
       "   array([[0., 0., 0., 0., 1., 0., 0., 0., 0.],\n",
       "          [0., 0., 0., 0., 0., 1., 0., 0., 0.],\n",
       "          [0., 0., 0., 0., 0., 0., 1., 0., 0.],\n",
       "          [0., 0., 0., 0., 0., 0., 0., 1., 0.]])])}"
      ]
     },
     "execution_count": 49,
     "metadata": {},
     "output_type": "execute_result"
    }
   ],
   "source": [
    "# Performing Granger-Causality test\n",
    "grangercausalitytests(joined_table[['Unemployment Rate', 'Num_deaths']], maxlag=[4])"
   ]
  },
  {
   "cell_type": "markdown",
   "metadata": {},
   "source": [
    "Both p-values above show that number of cases and death cannot be used to predict unemployment rate in Macomb County during this period because they are larger than 0.05. We then continue to study their correlation using two-tailed Pearson correlation test."
   ]
  },
  {
   "cell_type": "code",
   "execution_count": 62,
   "metadata": {},
   "outputs": [
    {
     "name": "stdout",
     "output_type": "stream",
     "text": [
      "Correlation coefficient between number of deaths and unemployment:  0.18376009129893292\n",
      "p-value between number of deaths and unemployment:  0.4012907037991976\n"
     ]
    }
   ],
   "source": [
    "res0 = stats.pearsonr(joined_table['Num_deaths'],joined_table['Unemployment Rate'])\n",
    "print('Correlation coefficient between number of deaths and unemployment: ', res0[0])\n",
    "print('p-value between number of deaths and unemployment: ', res0[1])"
   ]
  },
  {
   "cell_type": "code",
   "execution_count": 63,
   "metadata": {},
   "outputs": [
    {
     "name": "stdout",
     "output_type": "stream",
     "text": [
      "Correlation coefficient between number of cases and unemployment:  -0.15149289497691115\n",
      "p-value between number of cases and unemployment:  0.49018342997731806\n"
     ]
    }
   ],
   "source": [
    "res1 = stats.pearsonr(joined_table['Num_cases'],joined_table['Unemployment Rate'])\n",
    "print('Correlation coefficient between number of cases and unemployment: ', res1[0])\n",
    "print('p-value between number of cases and unemployment: ', res1[1])"
   ]
  },
  {
   "cell_type": "markdown",
   "metadata": {},
   "source": [
    "It turns out that p-values in both Pearson tests are above 0.05 and hence they are not statistically significant. "
   ]
  },
  {
   "cell_type": "markdown",
   "metadata": {},
   "source": [
    "### Hypothesis 2: The number of cases and deaths are negatively correlated to vaccination rate.\n",
    "We then proceed to perform Granger causality test between vaccination rate and the number of COVID-19 cases and COVID-19 deaths. The number of lag chosen is 4 because it is assumed that it takes a while before the vaccination effect to take effect."
   ]
  },
  {
   "cell_type": "code",
   "execution_count": 64,
   "metadata": {},
   "outputs": [
    {
     "name": "stdout",
     "output_type": "stream",
     "text": [
      "\n",
      "Granger Causality\n",
      "number of lags (no zero) 4\n",
      "ssr based F test:         F=0.2470  , p=0.9050  , df_denom=10, df_num=4\n",
      "ssr based chi2 test:   chi2=1.8769  , p=0.7584  , df=4\n",
      "likelihood ratio test: chi2=1.7898  , p=0.7743  , df=4\n",
      "parameter F test:         F=0.2470  , p=0.9050  , df_denom=10, df_num=4\n"
     ]
    },
    {
     "data": {
      "text/plain": [
       "{4: ({'ssr_ftest': (0.2469540214058466, 0.9050297776106758, 10.0, 4),\n",
       "   'ssr_chi2test': (1.8768505626844343, 0.7583961924703471, 4),\n",
       "   'lrtest': (1.7898368096644504, 0.774341238944526, 4),\n",
       "   'params_ftest': (0.24695402140584582, 0.9050297776106764, 10.0, 4.0)},\n",
       "  [<statsmodels.regression.linear_model.RegressionResultsWrapper at 0x7ff6b452f220>,\n",
       "   <statsmodels.regression.linear_model.RegressionResultsWrapper at 0x7ff6c1681a60>,\n",
       "   array([[0., 0., 0., 0., 1., 0., 0., 0., 0.],\n",
       "          [0., 0., 0., 0., 0., 1., 0., 0., 0.],\n",
       "          [0., 0., 0., 0., 0., 0., 1., 0., 0.],\n",
       "          [0., 0., 0., 0., 0., 0., 0., 1., 0.]])])}"
      ]
     },
     "execution_count": 64,
     "metadata": {},
     "output_type": "execute_result"
    }
   ],
   "source": [
    "grangercausalitytests(joined_table[['Num_cases', 'First Dose']], maxlag=[4])"
   ]
  },
  {
   "cell_type": "code",
   "execution_count": 66,
   "metadata": {},
   "outputs": [
    {
     "name": "stdout",
     "output_type": "stream",
     "text": [
      "\n",
      "Granger Causality\n",
      "number of lags (no zero) 4\n",
      "ssr based F test:         F=1.3346  , p=0.3228  , df_denom=10, df_num=4\n",
      "ssr based chi2 test:   chi2=10.1431 , p=0.0381  , df=4\n",
      "likelihood ratio test: chi2=8.1278  , p=0.0870  , df=4\n",
      "parameter F test:         F=1.3346  , p=0.3228  , df_denom=10, df_num=4\n"
     ]
    },
    {
     "data": {
      "text/plain": [
       "{4: ({'ssr_ftest': (1.3346124323299715, 0.32275858470325924, 10.0, 4),\n",
       "   'ssr_chi2test': (10.143054485707784, 0.03808567452219725, 4),\n",
       "   'lrtest': (8.127775106190853, 0.0870081859255975, 4),\n",
       "   'params_ftest': (1.3346124323298345, 0.32275858470330315, 10.0, 4.0)},\n",
       "  [<statsmodels.regression.linear_model.RegressionResultsWrapper at 0x7ff6a052e160>,\n",
       "   <statsmodels.regression.linear_model.RegressionResultsWrapper at 0x7ff680095280>,\n",
       "   array([[0., 0., 0., 0., 1., 0., 0., 0., 0.],\n",
       "          [0., 0., 0., 0., 0., 1., 0., 0., 0.],\n",
       "          [0., 0., 0., 0., 0., 0., 1., 0., 0.],\n",
       "          [0., 0., 0., 0., 0., 0., 0., 1., 0.]])])}"
      ]
     },
     "execution_count": 66,
     "metadata": {},
     "output_type": "execute_result"
    }
   ],
   "source": [
    "grangercausalitytests(joined_table[['Num_deaths', 'First Dose']], maxlag=[4])"
   ]
  },
  {
   "cell_type": "code",
   "execution_count": 68,
   "metadata": {},
   "outputs": [
    {
     "name": "stdout",
     "output_type": "stream",
     "text": [
      "Correlation coefficient between number of cases and vaccination:  0.14823331207645643\n",
      "p-value between number of cases and vaccination:  0.4996746879097489\n"
     ]
    }
   ],
   "source": [
    "res2 = stats.pearsonr(joined_table['Num_cases'],joined_table['First Dose'])\n",
    "print('Correlation coefficient between number of cases and vaccination: ', res2[0])\n",
    "print('p-value between number of cases and vaccination: ', res2[1])"
   ]
  },
  {
   "cell_type": "code",
   "execution_count": 69,
   "metadata": {},
   "outputs": [
    {
     "name": "stdout",
     "output_type": "stream",
     "text": [
      "Correlation coefficient between number of deaths and vaccination:  0.13717245400060152\n",
      "p-value between number of deaths and vaccination:  0.5325414606179324\n"
     ]
    }
   ],
   "source": [
    "res3 = stats.pearsonr(joined_table['Num_deaths'],joined_table['First Dose'])\n",
    "print('Correlation coefficient between number of deaths and vaccination: ', res3[0])\n",
    "print('p-value between number of deaths and vaccination: ', res3[1])"
   ]
  },
  {
   "cell_type": "markdown",
   "metadata": {},
   "source": [
    "We can see that number of cases and deaths are positively correlated to the number of vaccination in Macomb County, which is against the hypothesis of this research. The p-values indicate that the relationships are not statistically significant enough."
   ]
  },
  {
   "cell_type": "markdown",
   "metadata": {},
   "source": [
    "### Hypothesis 3: Unemployment rate and vaccination rate are positively correlated."
   ]
  },
  {
   "cell_type": "code",
   "execution_count": 65,
   "metadata": {},
   "outputs": [
    {
     "name": "stdout",
     "output_type": "stream",
     "text": [
      "\n",
      "Granger Causality\n",
      "number of lags (no zero) 4\n",
      "ssr based F test:         F=3.5486  , p=0.0474  , df_denom=10, df_num=4\n",
      "ssr based chi2 test:   chi2=26.9697 , p=0.0000  , df=4\n",
      "likelihood ratio test: chi2=16.7873 , p=0.0021  , df=4\n",
      "parameter F test:         F=3.5486  , p=0.0474  , df_denom=10, df_num=4\n"
     ]
    },
    {
     "data": {
      "text/plain": [
       "{4: ({'ssr_ftest': (3.5486422650848666, 0.04744395914979304, 10.0, 4),\n",
       "   'ssr_chi2test': (26.969681214644986, 2.0161454286340454e-05, 4),\n",
       "   'lrtest': (16.787318823784297, 0.0021257630029001937, 4),\n",
       "   'params_ftest': (3.548642265217871, 0.04744395914512489, 10.0, 4.0)},\n",
       "  [<statsmodels.regression.linear_model.RegressionResultsWrapper at 0x7ff6c174f130>,\n",
       "   <statsmodels.regression.linear_model.RegressionResultsWrapper at 0x7ff6a066be50>,\n",
       "   array([[0., 0., 0., 0., 1., 0., 0., 0., 0.],\n",
       "          [0., 0., 0., 0., 0., 1., 0., 0., 0.],\n",
       "          [0., 0., 0., 0., 0., 0., 1., 0., 0.],\n",
       "          [0., 0., 0., 0., 0., 0., 0., 1., 0.]])])}"
      ]
     },
     "execution_count": 65,
     "metadata": {},
     "output_type": "execute_result"
    }
   ],
   "source": [
    "grangercausalitytests(joined_table[['Unemployment Rate', 'First Dose']], maxlag=[4])"
   ]
  },
  {
   "cell_type": "code",
   "execution_count": 70,
   "metadata": {},
   "outputs": [
    {
     "name": "stdout",
     "output_type": "stream",
     "text": [
      "Correlation coefficient between unemployment and vaccination:  0.48936868081660223\n",
      "p-value between unemployment and vaccination:  0.01778948796650519\n"
     ]
    }
   ],
   "source": [
    "res4 =stats.pearsonr(joined_table['Unemployment Rate'], joined_table['First Dose'])\n",
    "print('Correlation coefficient between unemployment and vaccination: ', res4[0])\n",
    "print('p-value between unemployment and vaccination: ', res4[1])"
   ]
  },
  {
   "cell_type": "markdown",
   "metadata": {},
   "source": [
    "The final relationship between unemployment rate and vaccination rate agree with the third hypothesis and is statistically significant."
   ]
  },
  {
   "cell_type": "markdown",
   "metadata": {},
   "source": []
  }
 ],
 "metadata": {
  "kernelspec": {
   "display_name": "Python 3.9.12 ('base')",
   "language": "python",
   "name": "python3"
  },
  "language_info": {
   "codemirror_mode": {
    "name": "ipython",
    "version": 3
   },
   "file_extension": ".py",
   "mimetype": "text/x-python",
   "name": "python",
   "nbconvert_exporter": "python",
   "pygments_lexer": "ipython3",
   "version": "3.9.12"
  },
  "orig_nbformat": 4,
  "vscode": {
   "interpreter": {
    "hash": "6e1449f6662882204752403ad4a648e42fa77bef87779d4f7aaf8fbcb2a5968d"
   }
  }
 },
 "nbformat": 4,
 "nbformat_minor": 2
}
